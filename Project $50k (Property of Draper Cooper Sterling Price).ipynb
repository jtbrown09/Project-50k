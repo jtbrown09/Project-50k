{
 "cells": [
  {
   "cell_type": "markdown",
   "metadata": {},
   "source": [
    "# data prep\n"
   ]
  },
  {
   "cell_type": "code",
   "execution_count": 1,
   "metadata": {
    "collapsed": false
   },
   "outputs": [],
   "source": [
    "# imports\n",
    "import re\n",
    "import os\n",
    "import json\n",
    "import pprint\n",
    "import datetime\n",
    "import pandas as pd\n",
    "import numpy as np\n",
    "from datetime import datetime\n",
    "import matplotlib.pyplot as plt\n",
    "import seaborn as sns "
   ]
  },
  {
   "cell_type": "code",
   "execution_count": 2,
   "metadata": {
    "collapsed": false
   },
   "outputs": [],
   "source": [
    "# read in the training data set\n",
    "census_train = pd.read_csv(\"C:/Users/EJE913/ct16_cap1_ds6/project_2/data/ad_placement/census-income.csv\", header=None) "
   ]
  },
  {
   "cell_type": "code",
   "execution_count": 3,
   "metadata": {
    "collapsed": false
   },
   "outputs": [],
   "source": [
    "# attach headers to the data\n",
    "census_train.columns= ['age', 'class_of_worker', 'industry_recode','occupation_recode', 'education', 'wage_per_hour', \\\n",
    "                      'enroll_in_ed', 'marital', 'industry_cd', 'occupation_cd', 'race', 'hispanic_origin', 'sex', \\\n",
    "                      'labor_union', 'reason_unemployed', 'employ_stat', 'capital_gains', 'capital_losses', 'dividends', \\\n",
    "                      'tax_filer', 'region_prev_resid', 'state_prev_resid', 'household_stat','household_summary', 'weight',\\\n",
    "                      'change_in_msa', 'change_in_reg', 'move_within_reg', 'live_here_before', 'prev_resid_sunbelt',\\\n",
    "                      'num_person_worked', 'under_18', 'birth_country_dad', 'birth_country_mom', 'birth_country_self', \\\n",
    "                      'citizenship', 'owner_self_employed', 'veterans_admin', 'veterans_benefits', 'weekes_worked_year', 'year', \\\n",
    "                       'target']  "
   ]
  },
  {
   "cell_type": "code",
   "execution_count": 5,
   "metadata": {
    "collapsed": false
   },
   "outputs": [],
   "source": [
    "# read in the test dataset\n",
    "census_train_test = pd.read_csv(\"C:/Users/EJE913/ct16_cap1_ds6/project_2/data/ad_placement/census-income-test.csv\", header=None) \n",
    "census_train_test.columns= ['age', 'class_of_worker', 'industry_recode','occupation_recode', 'education', 'wage_per_hour', \\\n",
    "                      'enroll_in_ed', 'marital', 'industry_cd', 'occupation_cd', 'race', 'hispanic_origin', 'sex', \\\n",
    "                      'labor_union', 'reason_unemployed', 'employ_stat', 'capital_gains', 'capital_losses', 'dividends', \\\n",
    "                      'tax_filer', 'region_prev_resid', 'state_prev_resid', 'household_stat','household_summary', 'weight',\\\n",
    "                      'change_in_msa', 'change_in_reg', 'move_within_reg', 'live_here_before', 'prev_resid_sunbelt',\\\n",
    "                      'num_person_worked', 'under_18', 'birth_country_dad', 'birth_country_mom', 'birth_country_self', \\\n",
    "                      'citizenship', 'owner_self_employed', 'veterans_admin', 'veterans_benefits', 'weekes_worked_year', 'year', \\\n",
    "                       'target']  "
   ]
  },
  {
   "cell_type": "markdown",
   "metadata": {},
   "source": [
    "# clean up columns, create buckets, change char to num etc."
   ]
  },
  {
   "cell_type": "code",
   "execution_count": 8,
   "metadata": {
    "collapsed": false
   },
   "outputs": [
    {
     "name": "stdout",
     "output_type": "stream",
     "text": [
      " Not in universe                   100245\n",
      " Private                            72028\n",
      " Self-employed-not incorporated      8445\n",
      " Local government                    7784\n",
      " State government                    4227\n",
      " Self-employed-incorporated          3265\n",
      " Federal government                  2925\n",
      " Never worked                         439\n",
      " Without pay                          165\n",
      "Name: class_of_worker, dtype: int64\n"
     ]
    }
   ],
   "source": [
    "# make target 0/1\n",
    "census_train['target_bin']=census_train['target'].apply(lambda x: 1 if x.strip()=='50000+.' \n",
    "                                                        else 0 if x.strip()=='- 50000.' else 'miss')\n",
    "\n",
    "# lets bucket ages \n",
    "\n",
    "# 0-15 (child-1), 16-22 (school-2), 23-39 (entry-3), 40-66 (manage-4), 67+ (retire-5)\n",
    "census_train['age_bucket']=census_train['age'].apply(lambda x: 1 if 0<=x<=15 \n",
    "                                                     else 2 if 16<=x<=22 \n",
    "                                                     else 3 if 23<=x<=39 \n",
    "                                                     else 4 if 40<=x<=66\n",
    "                                                     else 5 if x>=67 \n",
    "                                                     else 'miss')\n",
    "census_train['age_bucket'].value_counts()\n",
    "\n",
    "#class of worker\n",
    "'''\n",
    "All people over the age of 15 who have been employed at any \n",
    "time are asked to designate the type of work normally done or the work performed most regularly. \n",
    "'''\n",
    "\n",
    "print census_train['class_of_worker'].value_counts()\n"
   ]
  },
  {
   "cell_type": "code",
   "execution_count": 10,
   "metadata": {
    "collapsed": false
   },
   "outputs": [
    {
     "data": {
      "text/plain": [
       "0    100245\n",
       "1     72028\n",
       "2      8445\n",
       "3      7784\n",
       "4      4227\n",
       "8      3265\n",
       "5      2925\n",
       "6       439\n",
       "7       165\n",
       "Name: class_code, dtype: int64"
      ]
     },
     "execution_count": 10,
     "metadata": {},
     "output_type": "execute_result"
    }
   ],
   "source": [
    "# convert to numebrs\n",
    "census_train['class_code']=census_train['class_of_worker'].apply(lambda x: 0 if x.strip()=='Not in universe' \n",
    "                                                                else 1 if x.strip()=='Private'\n",
    "                                                                else 2 if x.strip()=='Self-employed-not incorporated'\n",
    "                                                                else 3 if x.strip()=='Local government'\n",
    "                                                                else 4 if x.strip()=='State government'\n",
    "                                                                else 5 if x.strip()=='Federal government'\n",
    "                                                                else 6 if x.strip()=='Never worked'\n",
    "                                                                else 7 if x.strip()=='Without pay'\n",
    "                                                                else 8 if x.strip()=='Self-employed-incorporated'\n",
    "                                                                else 'miss')\n",
    "census_train['class_code'].value_counts()"
   ]
  },
  {
   "cell_type": "code",
   "execution_count": 13,
   "metadata": {
    "collapsed": false
   },
   "outputs": [
    {
     "data": {
      "text/plain": [
       "0     100684\n",
       "5      20666\n",
       "10     16930\n",
       "4      15912\n",
       "9      10133\n",
       "6       6568\n",
       "12      6431\n",
       "8       6145\n",
       "3       5984\n",
       "13      4610\n",
       "1       3210\n",
       "11      1651\n",
       "2        563\n",
       "14        36\n",
       "Name: industry_major_cd, dtype: int64"
      ]
     },
     "execution_count": 13,
     "metadata": {},
     "output_type": "execute_result"
    }
   ],
   "source": [
    "'''\n",
    "0: not in universe\n",
    "1: agriculture, fishing, forestry, hunting\n",
    "2: mining\n",
    "3: construction\n",
    "4: manufacturing\n",
    "5: wholesale and retail trade\n",
    "6: transportation and utilities\n",
    "7: information\n",
    "8: financial activities\n",
    "9: professional and business services\n",
    "10: education and health services\n",
    "11: leisure and hospitality\n",
    "12: other services\n",
    "13: public administration\n",
    "14: armed forces\n",
    "'''\n",
    "\n",
    "industry_major={0:0,1:1,2:1,3:2,4:3,5:4,6:4,7:4,8:4,9:4,10:4,11:4,12:4,13:4,14:4,15:4,16:4,17:4,18:4,19:4,20:4,21:4,\n",
    "               22:4,23:4,24:4,25:4,26:4,27:4,28:4,29:6,30:6,31:6,32:5,33:5,34:8,35:8,36:12,37:9,38:9,39:12,40:11,41:10,\n",
    "               42:10,43:10,44:12,45:9,46:1,47:13,48:13,49:13,50:13,51:14}\n",
    "census_train['industry_major_cd']=census_train['industry_recode'].apply(lambda x: industry_major.get(x))\n",
    "census_train['industry_major_cd'].value_counts()"
   ]
  },
  {
   "cell_type": "code",
   "execution_count": 16,
   "metadata": {
    "collapsed": false
   },
   "outputs": [],
   "source": [
    "#lets group these a bit and convert to numbers\n",
    "census_train['education_bucket']=census_train['education'].apply(lambda x: 2 if x.strip()=='Less than 1st grade'\n",
    "                                                                else 2 if x.strip()=='1st 2nd 3rd or 4th grade'\n",
    "                                                                else 3 if x.strip()=='5th or 6th grade'\n",
    "                                                                else 1 if x.strip()=='Children'\n",
    "                                                                else 3 if x.strip()=='7th and 8th grade'\n",
    "                                                                else 4 if x.strip()=='9th grade'\n",
    "                                                                else 4 if x.strip()=='10th grade'\n",
    "                                                                else 4 if x.strip()=='11th grade'\n",
    "                                                                else 4 if x.strip()=='12th grade no diploma'\n",
    "                                                                else 5 if x.strip()=='High school graduate'\n",
    "                                                                else 6 if x.strip()=='Some college but no degree'\n",
    "                                                                else 6 if x.strip()=='Associates degree-occup /vocational'\n",
    "                                                                else 6 if x.strip()=='Associates degree-academic program'\n",
    "                                                                else 7 if x.strip()=='Bachelors degree(BA AB BS)'\n",
    "                                                                else 8 if x.strip()=='Masters degree(MA MS MEng MEd MSW MBA)'\n",
    "                                                                else 8 if x.strip()=='Prof school degree (MD DDS DVM LLB JD)'\n",
    "                                                                else 8 if x.strip()=='Doctorate degree(PhD EdD)'\n",
    "                                                                else 'miss')"
   ]
  },
  {
   "cell_type": "code",
   "execution_count": 19,
   "metadata": {
    "collapsed": false
   },
   "outputs": [
    {
     "data": {
      "text/plain": [
       " Never married                      86485\n",
       " Married-civilian spouse present    84222\n",
       " Divorced                           12710\n",
       " Widowed                            10463\n",
       " Separated                           3460\n",
       " Married-spouse absent               1518\n",
       " Married-A F spouse present           665\n",
       "Name: marital, dtype: int64"
      ]
     },
     "execution_count": 19,
     "metadata": {},
     "output_type": "execute_result"
    }
   ],
   "source": [
    "#this seems pretty useless to me since 94% have the same value so let's drop it!\n",
    "census_train.drop(['enroll_in_ed'], axis=1, inplace=True)\n",
    "\n",
    "# marital\n",
    "census_train['marital'].value_counts()"
   ]
  },
  {
   "cell_type": "code",
   "execution_count": 20,
   "metadata": {
    "collapsed": false
   },
   "outputs": [],
   "source": [
    "#convert to number\n",
    "census_train['marital_code']=census_train['marital'].apply(lambda x: 0 if x.strip()=='Never married' \n",
    "                                                                else 1 if x.strip()=='Married-civilian spouse present'\n",
    "                                                                else 2 if x.strip()=='Divorced'\n",
    "                                                                else 3 if x.strip()=='Widowed'\n",
    "                                                                else 4 if x.strip()=='Separated'\n",
    "                                                                else 5 if x.strip()=='Married-spouse absent'\n",
    "                                                                else 6 if x.strip()=='Married-A F spouse present'\n",
    "                                                                else 'miss')\n",
    "\n"
   ]
  },
  {
   "cell_type": "code",
   "execution_count": 24,
   "metadata": {
    "collapsed": false
   },
   "outputs": [
    {
     "data": {
      "text/plain": [
       "1    187141\n",
       "0     12382\n",
       "Name: tgt_bin, dtype: int64"
      ]
     },
     "execution_count": 24,
     "metadata": {},
     "output_type": "execute_result"
    }
   ],
   "source": [
    "census_train['tgt_bin'] = [1 if x.strip() == '- 50000.' else 0 if x.strip() == '50000+.' else -1 for x in census_train.target]\n",
    "census_train.tgt_bin.value_counts()"
   ]
  },
  {
   "cell_type": "code",
   "execution_count": 25,
   "metadata": {
    "collapsed": false
   },
   "outputs": [
    {
     "name": "stdout",
     "output_type": "stream",
     "text": [
      "(196291, 48)\n"
     ]
    }
   ],
   "source": [
    "print census_train.drop_duplicates().shape\n",
    "#census_train.dtypes"
   ]
  },
  {
   "cell_type": "code",
   "execution_count": 28,
   "metadata": {
    "collapsed": false
   },
   "outputs": [
    {
     "data": {
      "text/plain": [
       "count    199523.000000\n",
       "mean        903.951224\n",
       "std         969.402343\n",
       "min           0.000000\n",
       "25%           0.000000\n",
       "50%         240.000000\n",
       "75%        2080.000000\n",
       "max        2080.000000\n",
       "Name: work_time_proxy, dtype: float64"
      ]
     },
     "execution_count": 28,
     "metadata": {},
     "output_type": "execute_result"
    }
   ],
   "source": [
    "#'birth_country_dad_cd' - US/Americas/Europe/Asia/?\n",
    "#'birth_country_mom_cd' - US/Americas/Europe/Asia/?\n",
    "#'birth_country_self_cd' - US/Americas/Europe/Asia/?\n",
    "# 'year' - 94/95 (Don't use)\n",
    "# 'citizenship' - native vs foreign\n",
    "# 'veterans_admin' - 99% not in universe (Don't use)\n",
    "# 'veterans_benefits' - 2 (150130)/ 0 (47409)/ 1(1984)\n",
    "# 'owner_self_employed - 0 (180672)/ 2 (16153)/ 1 (2698) - 91% have 0 not owner neither self-employed\n",
    "# 'weekes_worked_year' - binned as 0/ 1-48/ 49-52\n",
    "\n",
    "US = ['United-States', 'Puerto-Rico', 'Canada', 'Outlying-U S (Guam USVI etc)']\n",
    "Americas = ['Mexico', 'Guatemala', 'Honduras', 'Nicaragua', 'Panama', 'El-Salvador', \\\n",
    "            'Cuba', 'Haiti', 'Dominican-Republic', 'Jamaica', 'Trinadad&Tobago', \\\n",
    "            'Columbia', 'Ecuador', 'Peru']\n",
    "Europe = ['Germany', 'England', 'Ireland', 'Italy', 'Portugal', 'Hungary', 'Greece', 'Poland', 'Scotland', 'France', \\\n",
    "          'Holand-Netherlands',  'Yugoslavia']\n",
    "Asias = ['Philippines', 'Vietnam', 'Japan', 'China', 'South Korea', 'India', 'Taiwan',  'Iran', 'Cambodia', \\\n",
    "         'Laos', 'Thailand', 'Hong Kong']\n",
    "\n",
    "census_train['birth_country_mom_cd'] = ['US' if x.strip() in US else 'Am' if x.strip() in Americas \\\n",
    "                                        else 'E' if x.strip() in Europe else 'A' if x.strip() in Asias \\\n",
    "                                        else '?' for x in census_train.birth_country_mom]\n",
    "\n",
    "census_train['birth_country_dad_cd'] = ['US' if x.strip() in US else 'Am' if x.strip() in Americas \\\n",
    "                                        else 'E' if x.strip() in Europe else 'A' if x.strip() in Asias \\\n",
    "                                        else '?' for x in census_train.birth_country_dad]\n",
    "\n",
    "census_train['parents_country_cd'] = [\"US\" if x == \"US\" and y == \"US\" else \"US-Foreign\" \\\n",
    "                                      if (x == \"US\" and y != \"US\") or (x != \"US\" and y == \"US\") else \"Foreign\"\\\n",
    "                                      for x, y in zip(census_train.birth_country_mom_cd, census_train.birth_country_dad_cd)]\n",
    "\n",
    "census_train['birth_country_self_cd'] = ['US' if x.strip() in US else 'Am' if x.strip() in Americas \\\n",
    "                                        else 'E' if x.strip() in Europe else 'A' if x.strip() in Asias \\\n",
    "                                        else '?' for x in census_train.birth_country_self]\n",
    "census_train['citizenship_cd'] = ['Native' if x.strip()[:6] == 'Native' else 'Foreign' if x.strip()[:7] == 'Foreign'\\\n",
    "                                  else '?' for x in census_train.citizenship]\n",
    "census_train['weeks_worked_bin'] = pd.Series([0 if x == 0 else 1 if x <= 48 else 2 for x in census_train.weekes_worked_year])\n",
    "\n",
    "ft_proxy = [40 if x.strip() in [\"Full-time schedules\", \"PT for econ reasons usually FT\", \\\n",
    "            \"PT for non-econ reasons usually FT\", \"Children or Armed Forces\"] else 20 for x in census_train.employ_stat]\n",
    "census_train['work_time_proxy'] = [x*y for x, y in zip(ft_proxy, census_train.weekes_worked_year)]\n",
    "\n",
    "census_train.work_time_proxy.describe()\n",
    "# birth_country_dad_cd, parents_country_cd, citizenship_cd, weeks_worked_bin"
   ]
  },
  {
   "cell_type": "code",
   "execution_count": 29,
   "metadata": {
    "collapsed": false
   },
   "outputs": [
    {
     "data": {
      "text/plain": [
       " ?    6119\n",
       "Name: birth_country_mom, dtype: int64"
      ]
     },
     "execution_count": 29,
     "metadata": {},
     "output_type": "execute_result"
    }
   ],
   "source": [
    "census_train[census_train.birth_country_mom_cd == \"?\"].birth_country_mom.value_counts()"
   ]
  },
  {
   "cell_type": "code",
   "execution_count": 30,
   "metadata": {
    "collapsed": false
   },
   "outputs": [
    {
     "data": {
      "text/plain": [
       " ?    6713\n",
       "Name: birth_country_dad, dtype: int64"
      ]
     },
     "execution_count": 30,
     "metadata": {},
     "output_type": "execute_result"
    }
   ],
   "source": [
    "census_train[census_train.birth_country_dad_cd == \"?\"].birth_country_dad.value_counts()"
   ]
  },
  {
   "cell_type": "code",
   "execution_count": 31,
   "metadata": {
    "collapsed": false
   },
   "outputs": [],
   "source": [
    "census_train['parents_country_cd'] = [\"US\" if x == \"US\" and y == \"US\" else \"US-Foreign\" \\\n",
    "                                      if (x == \"US\" and y != \"US\") or (x != \"US\" and y == \"US\") else \"Foreign\"\\\n",
    "                                      for x, y in zip(census_train.birth_country_mom_cd, census_train.birth_country_dad_cd)]"
   ]
  },
  {
   "cell_type": "code",
   "execution_count": 32,
   "metadata": {
    "collapsed": false
   },
   "outputs": [
    {
     "name": "stdout",
     "output_type": "stream",
     "text": [
      "birth_country_dad_cd     ?     A     Am     E      US\n",
      "birth_country_mom_cd                                 \n",
      "?                     4879    69    102   243     826\n",
      "A                       58  4476     43    20     488\n",
      "Am                     171    60  14692    78    1341\n",
      "E                      271    58     52  5313    1723\n",
      "US                    1334   301   1750  2171  159004\n"
     ]
    }
   ],
   "source": [
    "print pd.crosstab(census_train.birth_country_mom_cd, census_train.birth_country_dad_cd)"
   ]
  },
  {
   "cell_type": "code",
   "execution_count": 33,
   "metadata": {
    "collapsed": false
   },
   "outputs": [
    {
     "data": {
      "text/plain": [
       "US    179208\n",
       "Am     10291\n",
       "A       3703\n",
       "?       3393\n",
       "E       2928\n",
       "Name: birth_country_self_cd, dtype: int64"
      ]
     },
     "execution_count": 33,
     "metadata": {},
     "output_type": "execute_result"
    }
   ],
   "source": [
    "census_train['birth_country_self_cd'] = ['US' if x.strip() in US else 'Am' if x.strip() in Americas \\\n",
    "                                        else 'E' if x.strip() in Europe else 'A' if x.strip() in Asias \\\n",
    "                                        else '?' for x in census_train.birth_country_self]\n",
    "census_train.birth_country_self_cd.value_counts()"
   ]
  },
  {
   "cell_type": "code",
   "execution_count": 34,
   "metadata": {
    "collapsed": false
   },
   "outputs": [],
   "source": [
    "census_train['citizenship_cd'] = ['Native' if x.strip()[:6] == 'Native' else 'Foreign' if x.strip()[:7] == 'Foreign'\\\n",
    "                                  else '?' for x in census_train.citizenship]"
   ]
  },
  {
   "cell_type": "code",
   "execution_count": 35,
   "metadata": {
    "collapsed": false
   },
   "outputs": [
    {
     "data": {
      "text/plain": [
       "0    0.905520\n",
       "2    0.080958\n",
       "1    0.013522\n",
       "Name: owner_self_employed, dtype: float64"
      ]
     },
     "execution_count": 35,
     "metadata": {},
     "output_type": "execute_result"
    }
   ],
   "source": [
    "census_train.owner_self_employed.value_counts()/len(census_train)"
   ]
  },
  {
   "cell_type": "code",
   "execution_count": 36,
   "metadata": {
    "collapsed": false
   },
   "outputs": [
    {
     "data": {
      "text/plain": [
       " Not in universe    0.990056\n",
       " No                 0.007984\n",
       " Yes                0.001960\n",
       "Name: veterans_admin, dtype: float64"
      ]
     },
     "execution_count": 36,
     "metadata": {},
     "output_type": "execute_result"
    }
   ],
   "source": [
    "census_train.veterans_admin.value_counts()/len(census_train)"
   ]
  },
  {
   "cell_type": "code",
   "execution_count": 37,
   "metadata": {
    "collapsed": false
   },
   "outputs": [
    {
     "data": {
      "text/plain": [
       "2    0.752445\n",
       "0    0.237612\n",
       "1    0.009944\n",
       "Name: veterans_benefits, dtype: float64"
      ]
     },
     "execution_count": 37,
     "metadata": {},
     "output_type": "execute_result"
    }
   ],
   "source": [
    "census_train.veterans_benefits.value_counts()/len(census_train)"
   ]
  },
  {
   "cell_type": "code",
   "execution_count": 38,
   "metadata": {
    "collapsed": false
   },
   "outputs": [],
   "source": [
    "census_train['weeks_worked_bin'] = pd.Series([0 if x == 0 else 1 if x <= 48 else 2 for x in census_train.weekes_worked_year])"
   ]
  },
  {
   "cell_type": "code",
   "execution_count": 42,
   "metadata": {
    "collapsed": false
   },
   "outputs": [],
   "source": [
    "census_train['occupation_cd'] = (census_train['occupation_cd']).apply(func=str.strip)\n",
    "census_train['target'] = (census_train['target']).apply(func=str.strip)"
   ]
  },
  {
   "cell_type": "code",
   "execution_count": 43,
   "metadata": {
    "collapsed": false
   },
   "outputs": [],
   "source": [
    "# Creating a duplicate column to convert occupation_cd_num to numbers\n",
    "census_train['occupation_cd_num']= census_train['occupation_cd']"
   ]
  },
  {
   "cell_type": "code",
   "execution_count": 44,
   "metadata": {
    "collapsed": false
   },
   "outputs": [],
   "source": [
    "'''Converting occupation_cd to numbers:\n",
    "\n",
    "'Not in universe': 0\n",
    "'Precision production craft & repair': 1\n",
    "'Professional specialty': 2\n",
    "'Executive admin and managerial': 3\n",
    "'Handlers equip cleaners etc':4 \n",
    "'Adm support including clerical':5\n",
    "'Machine operators assmblrs & inspctrs':6 \n",
    "'Other service':7 \n",
    "'Sales':8\n",
    "'Private household services':9 \n",
    "'Technicians and related support':10\n",
    "'Transportation and material moving':11\n",
    "'Farming forestry and fishing':12\n",
    "'Protective services':13\n",
    "'Armed Forces':14'''\n",
    "\n",
    "\n",
    "census_train['occupation_cd_num'] = census_train['occupation_cd_num'].replace(['Not in universe', 'Precision production craft & repair',\n",
    "       'Professional specialty', 'Executive admin and managerial',\n",
    "       'Handlers equip cleaners etc', 'Adm support including clerical',\n",
    "       'Machine operators assmblrs & inspctrs', 'Other service', 'Sales',\n",
    "       'Private household services', 'Technicians and related support',\n",
    "       'Transportation and material moving',\n",
    "       'Farming forestry and fishing', 'Protective services',\n",
    "       'Armed Forces'], [0,1,2,3,4,5,6,7,8,9,10,11,12,13,14])\n",
    "\n",
    "\n",
    "del census_train['race'] \n",
    "del census_train['hispanic_origin']\n",
    "del census_train['sex']\n",
    "del census_train['labor_union']\n",
    "del census_train['reason_unemployed'] \n",
    "del census_train['employ_stat']"
   ]
  },
  {
   "cell_type": "code",
   "execution_count": 45,
   "metadata": {
    "collapsed": false
   },
   "outputs": [
    {
     "name": "stdout",
     "output_type": "stream",
     "text": [
      "<class 'pandas.core.frame.DataFrame'>\n",
      "RangeIndex: 199523 entries, 0 to 199522\n",
      "Data columns (total 46 columns):\n",
      "age                      199523 non-null int64\n",
      "class_of_worker          199523 non-null object\n",
      "industry_recode          199523 non-null int64\n",
      "occupation_recode        199523 non-null int64\n",
      "education                199523 non-null object\n",
      "wage_per_hour            199523 non-null int64\n",
      "marital                  199523 non-null object\n",
      "industry_cd              199523 non-null object\n",
      "occupation_cd            199523 non-null object\n",
      "tax_filer                199523 non-null int64\n",
      "region_prev_resid        199523 non-null int64\n",
      "household_summary        199523 non-null int64\n",
      "weight                   199523 non-null float64\n",
      "change_in_msa            199523 non-null object\n",
      "change_in_reg            199523 non-null object\n",
      "move_within_reg          199523 non-null object\n",
      "live_here_before         199523 non-null object\n",
      "prev_resid_sunbelt       199523 non-null object\n",
      "num_person_worked        199523 non-null int64\n",
      "under_18                 199523 non-null object\n",
      "birth_country_dad        199523 non-null object\n",
      "birth_country_mom        199523 non-null object\n",
      "birth_country_self       199523 non-null object\n",
      "citizenship              199523 non-null object\n",
      "owner_self_employed      199523 non-null int64\n",
      "veterans_admin           199523 non-null object\n",
      "veterans_benefits        199523 non-null int64\n",
      "weekes_worked_year       199523 non-null int64\n",
      "year                     199523 non-null int64\n",
      "target                   199523 non-null object\n",
      "target_bin               199523 non-null int64\n",
      "age_bucket               199523 non-null int64\n",
      "class_code               199523 non-null int64\n",
      "industry_major_cd        199523 non-null int64\n",
      "education_bucket         199523 non-null int64\n",
      "marital_code             199523 non-null int64\n",
      "tgt_bin                  199523 non-null int64\n",
      "birth_country_mom_cd     199523 non-null object\n",
      "birth_country_dad_cd     199523 non-null object\n",
      "parents_country_cd       199523 non-null object\n",
      "birth_country_self_cd    199523 non-null object\n",
      "citizenship_cd           199523 non-null object\n",
      "weeks_worked_bin         199523 non-null int64\n",
      "work_time_proxy          199523 non-null int64\n",
      "occupation_cd_num        199523 non-null int64\n",
      "net_capital_gains        199523 non-null int64\n",
      "dtypes: float64(1), int64(23), object(22)\n",
      "memory usage: 70.0+ MB\n"
     ]
    }
   ],
   "source": [
    "#Capital Gains to Household Summary\n",
    "census_train_reformatted = census_train\n",
    "\n",
    "#Capital_Gains & Capital_Losses & Dividends\n",
    "#census_train_reformatted.dividends = census_train_reformatted.dividends.str.strip()\n",
    "census_train_reformatted[\"net_capital_gains\"] = census_train_reformatted.capital_gains - census_train_reformatted.capital_losses + census_train_reformatted.dividends \n",
    "del census_train_reformatted['capital_gains']\n",
    "del census_train_reformatted['capital_losses']\n",
    "del census_train_reformatted['dividends']\n",
    "\n",
    "#Tax_filer\n",
    "census_train_reformatted.tax_filer = census_train_reformatted.tax_filer.str.strip()\n",
    "\n",
    "census_train_reformatted.tax_filer.replace('Nonfiler',0, inplace=True)\n",
    "census_train_reformatted.tax_filer.replace('Joint both under 65',1, inplace=True)\n",
    "census_train_reformatted.tax_filer.replace('Single',1, inplace=True)\n",
    "census_train_reformatted.tax_filer.replace('Joint both 65+',1, inplace=True)\n",
    "census_train_reformatted.tax_filer.replace('Head of household',1, inplace=True)\n",
    "census_train_reformatted.tax_filer.replace('Joint one under 65 & one 65+',1, inplace=True)\n",
    "\n",
    "#Region_prev_resid\n",
    "census_train_reformatted.region_prev_resid = census_train_reformatted.region_prev_resid.str.strip()\n",
    "\n",
    "census_train_reformatted.region_prev_resid.replace('Not in universe',0, inplace=True)\n",
    "census_train_reformatted.region_prev_resid.replace('South',1, inplace=True)\n",
    "census_train_reformatted.region_prev_resid.replace('West',2, inplace=True)\n",
    "census_train_reformatted.region_prev_resid.replace('Midwest',3, inplace=True)\n",
    "census_train_reformatted.region_prev_resid.replace('Northeast',4, inplace=True)\n",
    "census_train_reformatted.region_prev_resid.replace('Abroad',5, inplace=True)\n",
    "\n",
    "#State_prev_resid\n",
    "del census_train_reformatted['state_prev_resid']\n",
    "\n",
    "#household_stat\n",
    "del census_train_reformatted['household_stat']\n",
    "\n",
    "#household_summary\n",
    "census_train_reformatted.household_summary = census_train_reformatted.household_summary.str.strip()\n",
    "\n",
    "census_train_reformatted.household_summary.replace('Householder',1, inplace=True)\n",
    "census_train_reformatted.household_summary.replace('Child under 18 never married',0, inplace=True)\n",
    "census_train_reformatted.household_summary.replace('Spouse of householder',0, inplace=True)\n",
    "census_train_reformatted.household_summary.replace('Child 18 or older',0, inplace=True)\n",
    "census_train_reformatted.household_summary.replace('Other relative of householder',0, inplace=True)\n",
    "census_train_reformatted.household_summary.replace('Nonrelative of householder',0, inplace=True)\n",
    "census_train_reformatted.household_summary.replace('Group Quarters- Secondary individual',0, inplace=True)\n",
    "census_train_reformatted.household_summary.replace('Child under 18 ever married',0, inplace=True)\n",
    "\n",
    "census_train_reformatted.info()"
   ]
  },
  {
   "cell_type": "code",
   "execution_count": 51,
   "metadata": {
    "collapsed": false
   },
   "outputs": [],
   "source": [
    "subname = ['change_in_msa', 'change_in_reg', 'live_here_before', 'prev_resid_sunbelt',\n",
    "              'num_person_worked', 'under_18'] \n",
    "\n",
    "#new_train = pd.get_dummies(census_train,columns=subname) "
   ]
  },
  {
   "cell_type": "code",
   "execution_count": 53,
   "metadata": {
    "collapsed": false
   },
   "outputs": [
    {
     "data": {
      "text/plain": [
       "['change_in_msa',\n",
       " 'change_in_reg',\n",
       " 'live_here_before',\n",
       " 'prev_resid_sunbelt',\n",
       " 'num_person_worked',\n",
       " 'under_18']"
      ]
     },
     "execution_count": 53,
     "metadata": {},
     "output_type": "execute_result"
    }
   ],
   "source": [
    "subname"
   ]
  },
  {
   "cell_type": "code",
   "execution_count": 59,
   "metadata": {
    "collapsed": false
   },
   "outputs": [],
   "source": [
    "census_train.drop(['age', 'birth_country_dad', 'birth_country_mom', 'birth_country_self', 'birth_country_self_cd', \n",
    "                   'citizenship','class_of_worker', 'education', 'industry_cd', 'industry_recode', 'marital', 'move_within_reg'\n",
    "                   , 'occupation_cd', 'occupation_recode', 'owner_self_employed', 'tgt_bin', 'target', 'veterans_admin', \n",
    "                   'veterans_benefits', 'weekes_worked_year', 'year'], axis=1, inplace=True)"
   ]
  },
  {
   "cell_type": "code",
   "execution_count": 60,
   "metadata": {
    "collapsed": false
   },
   "outputs": [
    {
     "data": {
      "text/html": [
       "<div>\n",
       "<table border=\"1\" class=\"dataframe\">\n",
       "  <thead>\n",
       "    <tr style=\"text-align: right;\">\n",
       "      <th></th>\n",
       "      <th>wage_per_hour</th>\n",
       "      <th>tax_filer</th>\n",
       "      <th>region_prev_resid</th>\n",
       "      <th>household_summary</th>\n",
       "      <th>weight</th>\n",
       "      <th>change_in_msa</th>\n",
       "      <th>change_in_reg</th>\n",
       "      <th>live_here_before</th>\n",
       "      <th>prev_resid_sunbelt</th>\n",
       "      <th>num_person_worked</th>\n",
       "      <th>...</th>\n",
       "      <th>education_bucket</th>\n",
       "      <th>marital_code</th>\n",
       "      <th>birth_country_mom_cd</th>\n",
       "      <th>birth_country_dad_cd</th>\n",
       "      <th>parents_country_cd</th>\n",
       "      <th>citizenship_cd</th>\n",
       "      <th>weeks_worked_bin</th>\n",
       "      <th>work_time_proxy</th>\n",
       "      <th>occupation_cd_num</th>\n",
       "      <th>net_capital_gains</th>\n",
       "    </tr>\n",
       "  </thead>\n",
       "  <tbody>\n",
       "    <tr>\n",
       "      <th>0</th>\n",
       "      <td>0</td>\n",
       "      <td>0</td>\n",
       "      <td>0</td>\n",
       "      <td>0</td>\n",
       "      <td>1700.09</td>\n",
       "      <td>?</td>\n",
       "      <td>?</td>\n",
       "      <td>Not in universe under 1 year old</td>\n",
       "      <td>?</td>\n",
       "      <td>0</td>\n",
       "      <td>...</td>\n",
       "      <td>5</td>\n",
       "      <td>3</td>\n",
       "      <td>US</td>\n",
       "      <td>US</td>\n",
       "      <td>US</td>\n",
       "      <td>Native</td>\n",
       "      <td>0</td>\n",
       "      <td>0</td>\n",
       "      <td>0</td>\n",
       "      <td>0</td>\n",
       "    </tr>\n",
       "    <tr>\n",
       "      <th>1</th>\n",
       "      <td>0</td>\n",
       "      <td>1</td>\n",
       "      <td>1</td>\n",
       "      <td>1</td>\n",
       "      <td>1053.55</td>\n",
       "      <td>MSA to MSA</td>\n",
       "      <td>Same county</td>\n",
       "      <td>No</td>\n",
       "      <td>Yes</td>\n",
       "      <td>1</td>\n",
       "      <td>...</td>\n",
       "      <td>6</td>\n",
       "      <td>2</td>\n",
       "      <td>US</td>\n",
       "      <td>US</td>\n",
       "      <td>US</td>\n",
       "      <td>Native</td>\n",
       "      <td>2</td>\n",
       "      <td>2080</td>\n",
       "      <td>1</td>\n",
       "      <td>0</td>\n",
       "    </tr>\n",
       "    <tr>\n",
       "      <th>2</th>\n",
       "      <td>0</td>\n",
       "      <td>0</td>\n",
       "      <td>0</td>\n",
       "      <td>0</td>\n",
       "      <td>991.95</td>\n",
       "      <td>?</td>\n",
       "      <td>?</td>\n",
       "      <td>Not in universe under 1 year old</td>\n",
       "      <td>?</td>\n",
       "      <td>0</td>\n",
       "      <td>...</td>\n",
       "      <td>4</td>\n",
       "      <td>0</td>\n",
       "      <td>A</td>\n",
       "      <td>A</td>\n",
       "      <td>Foreign</td>\n",
       "      <td>Foreign</td>\n",
       "      <td>0</td>\n",
       "      <td>0</td>\n",
       "      <td>0</td>\n",
       "      <td>0</td>\n",
       "    </tr>\n",
       "    <tr>\n",
       "      <th>3</th>\n",
       "      <td>0</td>\n",
       "      <td>0</td>\n",
       "      <td>0</td>\n",
       "      <td>0</td>\n",
       "      <td>1758.14</td>\n",
       "      <td>Nonmover</td>\n",
       "      <td>Nonmover</td>\n",
       "      <td>Yes</td>\n",
       "      <td>Not in universe</td>\n",
       "      <td>0</td>\n",
       "      <td>...</td>\n",
       "      <td>1</td>\n",
       "      <td>0</td>\n",
       "      <td>US</td>\n",
       "      <td>US</td>\n",
       "      <td>US</td>\n",
       "      <td>Native</td>\n",
       "      <td>0</td>\n",
       "      <td>0</td>\n",
       "      <td>0</td>\n",
       "      <td>0</td>\n",
       "    </tr>\n",
       "    <tr>\n",
       "      <th>4</th>\n",
       "      <td>0</td>\n",
       "      <td>0</td>\n",
       "      <td>0</td>\n",
       "      <td>0</td>\n",
       "      <td>1069.16</td>\n",
       "      <td>Nonmover</td>\n",
       "      <td>Nonmover</td>\n",
       "      <td>Yes</td>\n",
       "      <td>Not in universe</td>\n",
       "      <td>0</td>\n",
       "      <td>...</td>\n",
       "      <td>1</td>\n",
       "      <td>0</td>\n",
       "      <td>US</td>\n",
       "      <td>US</td>\n",
       "      <td>US</td>\n",
       "      <td>Native</td>\n",
       "      <td>0</td>\n",
       "      <td>0</td>\n",
       "      <td>0</td>\n",
       "      <td>0</td>\n",
       "    </tr>\n",
       "  </tbody>\n",
       "</table>\n",
       "<p>5 rows × 25 columns</p>\n",
       "</div>"
      ],
      "text/plain": [
       "   wage_per_hour  tax_filer  region_prev_resid  household_summary   weight  \\\n",
       "0              0          0                  0                  0  1700.09   \n",
       "1              0          1                  1                  1  1053.55   \n",
       "2              0          0                  0                  0   991.95   \n",
       "3              0          0                  0                  0  1758.14   \n",
       "4              0          0                  0                  0  1069.16   \n",
       "\n",
       "  change_in_msa change_in_reg                   live_here_before  \\\n",
       "0             ?             ?   Not in universe under 1 year old   \n",
       "1    MSA to MSA   Same county                                 No   \n",
       "2             ?             ?   Not in universe under 1 year old   \n",
       "3      Nonmover      Nonmover                                Yes   \n",
       "4      Nonmover      Nonmover                                Yes   \n",
       "\n",
       "  prev_resid_sunbelt  num_person_worked        ...        education_bucket  \\\n",
       "0                  ?                  0        ...                       5   \n",
       "1                Yes                  1        ...                       6   \n",
       "2                  ?                  0        ...                       4   \n",
       "3    Not in universe                  0        ...                       1   \n",
       "4    Not in universe                  0        ...                       1   \n",
       "\n",
       "   marital_code  birth_country_mom_cd  birth_country_dad_cd  \\\n",
       "0             3                    US                    US   \n",
       "1             2                    US                    US   \n",
       "2             0                     A                     A   \n",
       "3             0                    US                    US   \n",
       "4             0                    US                    US   \n",
       "\n",
       "   parents_country_cd  citizenship_cd  weeks_worked_bin work_time_proxy  \\\n",
       "0                  US          Native                 0               0   \n",
       "1                  US          Native                 2            2080   \n",
       "2             Foreign         Foreign                 0               0   \n",
       "3                  US          Native                 0               0   \n",
       "4                  US          Native                 0               0   \n",
       "\n",
       "  occupation_cd_num net_capital_gains  \n",
       "0                 0                 0  \n",
       "1                 1                 0  \n",
       "2                 0                 0  \n",
       "3                 0                 0  \n",
       "4                 0                 0  \n",
       "\n",
       "[5 rows x 25 columns]"
      ]
     },
     "execution_count": 60,
     "metadata": {},
     "output_type": "execute_result"
    }
   ],
   "source": [
    "census_train.head()"
   ]
  },
  {
   "cell_type": "code",
   "execution_count": 61,
   "metadata": {
    "collapsed": true
   },
   "outputs": [],
   "source": [
    "dummies=['age_bucket', 'birth_country_dad_cd', 'birth_country_mom_cd', 'change_in_msa', \n",
    "         'change_in_reg', 'citizenship_cd', 'class_code', 'education_bucket', 'industry_major_cd', \n",
    "         'live_here_before', 'marital_code', 'occupation_cd_num', 'parents_country_cd', 'prev_resid_sunbelt', \n",
    "         'region_prev_resid', 'under_18', 'weeks_worked_bin']"
   ]
  },
  {
   "cell_type": "code",
   "execution_count": 63,
   "metadata": {
    "collapsed": false
   },
   "outputs": [],
   "source": [
    "census_train_final=pd.get_dummies(census_train, columns=dummies)"
   ]
  },
  {
   "cell_type": "code",
   "execution_count": 67,
   "metadata": {
    "collapsed": true
   },
   "outputs": [],
   "source": [
    "fiftyk_features=[]\n",
    "for index in census_train_final:\n",
    "    fiftyk_features.append(index)\n",
    "    "
   ]
  },
  {
   "cell_type": "code",
   "execution_count": 76,
   "metadata": {
    "collapsed": false
   },
   "outputs": [],
   "source": [
    "fiftyk_features.remove('weight')"
   ]
  },
  {
   "cell_type": "markdown",
   "metadata": {},
   "source": [
    "# knn"
   ]
  },
  {
   "cell_type": "code",
   "execution_count": null,
   "metadata": {
    "collapsed": false
   },
   "outputs": [
    {
     "name": "stdout",
     "output_type": "stream",
     "text": [
      "K values (1 to 20) and corresponding accuracy:\n",
      "\n",
      "1\n"
     ]
    }
   ],
   "source": [
    "from sklearn.neighbors import KNeighborsClassifier\n",
    "from sklearn.metrics import accuracy_score\n",
    "\n",
    "#define a list of features as it becomes easier to reuse it \n",
    "#fiftyk_features=[]\n",
    "#for index in census_train:\n",
    "#    fiftyk_features.append(index)\n",
    "\n",
    "#define X(features) and Y(target) vectors for KNeighborsClassifier model using training data\n",
    "X_knn= census_train_final[fiftyk_features]\n",
    "Y_knn= census_train_final['target_bin']\n",
    "\n",
    "def fiftyk_knn_model(k_value): \n",
    "    #Create an object of KNeighborsClassifier class(calling the consturctor here)\n",
    "    knn_model = KNeighborsClassifier(n_neighbors=k_value)\n",
    "    print k_value\n",
    "\n",
    "    #Calling .fit function on knn_model object to train the model using training data\n",
    "    knn_model.fit(X_knn, Y_knn) \n",
    "\n",
    "    #Calling .predict function on the trained model(knn_model) for test data\n",
    "    fiftyk_knn_pred = knn_model.predict(X_test[fiftyk_features])\n",
    "\n",
    "    #Compute model accuracy\n",
    "    model_accuracy= accuracy_score(y_test['target_bin'],fiftyk_knn_pred)\n",
    "\n",
    "    return model_accuracy\n",
    "\n",
    "\n",
    "\n",
    "#For loop to find the highest accuracy for range of k(number of neighbors) values\n",
    "\n",
    "def fiftyk_knn_accuracy(k_limit):\n",
    "    fiftyk_k_permutations = {}\n",
    "    for k in range(1,k_limit+1):\n",
    "        fiftyk_k_permutations.update({k:fiftyk_knn_model(k)})\n",
    "    return fiftyk_k_permutations\n",
    "\n",
    "print('K values (1 to 20) and corresponding accuracy:\\n')\n",
    "print(fiftyk_knn_accuracy(20))\n",
    "\n",
    "print('\\n K value with highest accuracy:')\n",
    "highest = max(fiftyk_knn_accuracy(20), key=(fiftyk_knn_accuracy(20)).get) \n",
    "print(highest, fiftyk_knn_accuracy(20)[highest])\n",
    "\n"
   ]
  },
  {
   "cell_type": "markdown",
   "metadata": {},
   "source": [
    "# regression"
   ]
  },
  {
   "cell_type": "code",
   "execution_count": null,
   "metadata": {
    "collapsed": true
   },
   "outputs": [],
   "source": [
    "from sklearn.linear_model import LogisticRegression\n",
    "\n",
    "from sklearn.metrics import accuracy_score\n",
    "\n",
    "\n",
    "#define X(features) and Y(target) vectors for LogisticRegression model using training data\n",
    "X_logreg= census_train_final[fiftyk_features]\n",
    "Y_logreg= census_train_final['target_bin]\n",
    "\n",
    "#Create an object of LogisticRegression class(calling the constructor here)\n",
    "logreg_model = LogisticRegression()\n",
    "\n",
    "#Calling .fit function on knn_model object to train the model using training data\n",
    "logreg_model.fit(X_logreg, Y_logreg) \n",
    "    \n",
    "#Calling .predict function on the trained model(knn_model) for test data\n",
    "fifty_logreg_pred = logreg_model.predict(census_test[fiftyk_features])\n",
    "\n",
    "#Compute model accuracy\n",
    "logreg_accuracy= accuracy_score(fiftyk_test['target_bin],fifty_logreg_pred)\n",
    "\n",
    "print('Accuracy for logistic regression model:')\n",
    "print(logreg_accuracy)\n",
    "\n"
   ]
  },
  {
   "cell_type": "code",
   "execution_count": 74,
   "metadata": {
    "collapsed": false
   },
   "outputs": [],
   "source": [
    "census_test = pd.read_csv(\"C:/Users/eje913/ct16_cap1_ds6/project_2/data/ad_placement/census-income-test.csv\", header=None) \n",
    "census_test.columns= ['age', 'class_of_worker', 'industry_recode','occupation_recode', 'education', 'wage_per_hour', \\\n",
    "                      'enroll_in_ed', 'marital', 'industry_cd', 'occupation_cd', 'race', 'hispanic_origin', 'sex', \\\n",
    "                      'labor_union', 'reason_unemployed', 'employ_stat', 'capital_gains', 'capital_losses', 'dividends', \\\n",
    "                      'tax_filer', 'region_prev_resid', 'state_prev_resid', 'household_stat','household_summary', 'weight',\\\n",
    "                      'change_in_msa', 'change_in_reg', 'move_within_reg', 'live_here_before', 'prev_resid_sunbelt',\\\n",
    "                      'num_person_worked', 'under_18', 'birth_country_dad', 'birth_country_mom', 'birth_country_self', \\\n",
    "                      'citizenship', 'owner_self_employed', 'veterans_admin', 'veterans_benefits', 'weekes_worked_year', 'year', \\\n",
    "                       'target']  \n",
    "# make target 0/1\n",
    "census_test['target_bin']=census_test['target'].apply(lambda x: 1 if x.strip()=='50000+.' else 0 if x.strip()=='- 50000.' else 'miss')\n",
    "#print census_train.groupby(['target_bin']).count()\n",
    "\n",
    "# lets bucket ages \n",
    "\n",
    "# 0-15 (child-1), 16-22 (school-2), 23-39 (entry-3), 40-66 (manage-4), 67+ (retire-5)\n",
    "census_test['age_bucket']=census_test['age'].apply(lambda x: 1 if 0<=x<=15 else 2 if 16<=x<=22 else 3 if 23<=x<=39 else 4 if 40<=x<=66\n",
    "                                             else 5 if x>=67 else 'miss')\n",
    "#class of worker\n",
    "'''\n",
    "All people over the age of 15 who have been employed at any \n",
    "time are asked to designate the type of work normally done or the work performed most regularly. \n",
    "'''\n",
    "# convert to numebrs\n",
    "census_test['class_code']=census_test['class_of_worker'].apply(lambda x: 0 if x.strip()=='Not in universe' \n",
    "                                                                else 1 if x.strip()=='Private'\n",
    "                                                                else 2 if x.strip()=='Self-employed-not incorporated'\n",
    "                                                                else 3 if x.strip()=='Local government'\n",
    "                                                                else 4 if x.strip()=='State government'\n",
    "                                                                else 5 if x.strip()=='Federal government'\n",
    "                                                                else 6 if x.strip()=='Never worked'\n",
    "                                                                else 7 if x.strip()=='Without pay'\n",
    "                                                                else 8 if x.strip()=='Self-employed-incorporated'\n",
    "                                                                else 'miss')\n",
    "'''\n",
    "0: not in universe\n",
    "1: agriculture, fishing, forestry, hunting\n",
    "2: mining\n",
    "3: construction\n",
    "4: manufacturing\n",
    "5: wholesale and retail trade\n",
    "6: transportation and utilities\n",
    "7: information\n",
    "8: financial activities\n",
    "9: professional and business services\n",
    "10: education and health services\n",
    "11: leisure and hospitality\n",
    "12: other services\n",
    "13: public administration\n",
    "14: armed forces\n",
    "'''\n",
    "\n",
    "industry_major={0:0,1:1,2:1,3:2,4:3,5:4,6:4,7:4,8:4,9:4,10:4,11:4,12:4,13:4,14:4,15:4,16:4,17:4,18:4,19:4,20:4,21:4,\n",
    "               22:4,23:4,24:4,25:4,26:4,27:4,28:4,29:6,30:6,31:6,32:5,33:5,34:8,35:8,36:12,37:9,38:9,39:12,40:11,41:10,\n",
    "               42:10,43:10,44:12,45:9,46:1,47:13,48:13,49:13,50:13,51:14}\n",
    "\n",
    "census_test['industry_major_cd']=census_test['industry_recode'].apply(lambda x: industry_major.get(x))\n",
    "\n",
    "#lets group these a bit and convert to numbers\n",
    "census_test['education_bucket']=census_test['education'].apply(lambda x: 2 if x.strip()=='Less than 1st grade'\n",
    "                                                                else 2 if x.strip()=='1st 2nd 3rd or 4th grade'\n",
    "                                                                else 3 if x.strip()=='5th or 6th grade'\n",
    "                                                                else 1 if x.strip()=='Children'\n",
    "                                                                else 3 if x.strip()=='7th and 8th grade'\n",
    "                                                                else 4 if x.strip()=='9th grade'\n",
    "                                                                else 4 if x.strip()=='10th grade'\n",
    "                                                                else 4 if x.strip()=='11th grade'\n",
    "                                                                else 4 if x.strip()=='12th grade no diploma'\n",
    "                                                                else 5 if x.strip()=='High school graduate'\n",
    "                                                                else 6 if x.strip()=='Some college but no degree'\n",
    "                                                                else 6 if x.strip()=='Associates degree-occup /vocational'\n",
    "                                                                else 6 if x.strip()=='Associates degree-academic program'\n",
    "                                                                else 7 if x.strip()=='Bachelors degree(BA AB BS)'\n",
    "                                                                else 8 if x.strip()=='Masters degree(MA MS MEng MEd MSW MBA)'\n",
    "                                                                else 8 if x.strip()=='Prof school degree (MD DDS DVM LLB JD)'\n",
    "                                                                else 8 if x.strip()=='Doctorate degree(PhD EdD)'\n",
    "                                                                else 'miss')\n",
    "\n",
    "\n",
    "#this seems pretty useless to me since 94% have the same value so let's drop it!\n",
    "census_test.drop(['enroll_in_ed'], axis=1, inplace=True)\n",
    "\n",
    "#convert to number\n",
    "census_test['marital_code']=census_test['marital'].apply(lambda x: 0 if x.strip()=='Never married' \n",
    "                                                                else 1 if x.strip()=='Married-civilian spouse present'\n",
    "                                                                else 2 if x.strip()=='Divorced'\n",
    "                                                                else 3 if x.strip()=='Widowed'\n",
    "                                                                else 4 if x.strip()=='Separated'\n",
    "                                                                else 5 if x.strip()=='Married-spouse absent'\n",
    "                                                                else 6 if x.strip()=='Married-A F spouse present'\n",
    "                                                                else 'miss')\n",
    "\n",
    "#'birth_country_dad_cd' - US/Americas/Europe/Asia/?\n",
    "#'birth_country_mom_cd' - US/Americas/Europe/Asia/?\n",
    "#'birth_country_self_cd' - US/Americas/Europe/Asia/?\n",
    "# 'year' - 94/95 (Don't use)\n",
    "# 'citizenship' - native vs foreign\n",
    "# 'veterans_admin' - 99% not in universe (Don't use)\n",
    "# 'veterans_benefits' - 2 (150130)/ 0 (47409)/ 1(1984)\n",
    "# 'owner_self_employed - 0 (180672)/ 2 (16153)/ 1 (2698) - 91% have 0 not owner neither self-employed\n",
    "# 'weekes_worked_year' - binned as 0/ 1-48/ 49-52\n",
    "\n",
    "US = ['United-States', 'Puerto-Rico', 'Canada', 'Outlying-U S (Guam USVI etc)']\n",
    "Americas = ['Mexico', 'Guatemala', 'Honduras', 'Nicaragua', 'Panama', 'El-Salvador', \\\n",
    "            'Cuba', 'Haiti', 'Dominican-Republic', 'Jamaica', 'Trinadad&Tobago', \\\n",
    "            'Columbia', 'Ecuador', 'Peru']\n",
    "Europe = ['Germany', 'England', 'Ireland', 'Italy', 'Portugal', 'Hungary', 'Greece', 'Poland', 'Scotland', 'France', \\\n",
    "          'Holand-Netherlands',  'Yugoslavia']\n",
    "Asias = ['Philippines', 'Vietnam', 'Japan', 'China', 'South Korea', 'India', 'Taiwan',  'Iran', 'Cambodia', \\\n",
    "         'Laos', 'Thailand', 'Hong Kong']\n",
    "\n",
    "census_test['birth_country_mom_cd'] = ['US' if x.strip() in US else 'Am' if x.strip() in Americas \\\n",
    "                                        else 'E' if x.strip() in Europe else 'A' if x.strip() in Asias \\\n",
    "                                        else '?' for x in census_test.birth_country_mom]\n",
    "\n",
    "census_test['birth_country_dad_cd'] = ['US' if x.strip() in US else 'Am' if x.strip() in Americas \\\n",
    "                                        else 'E' if x.strip() in Europe else 'A' if x.strip() in Asias \\\n",
    "                                        else '?' for x in census_test.birth_country_dad]\n",
    "\n",
    "census_test['parents_country_cd'] = [\"US\" if x == \"US\" and y == \"US\" else \"US-Foreign\" \\\n",
    "                                      if (x == \"US\" and y != \"US\") or (x != \"US\" and y == \"US\") else \"Foreign\"\\\n",
    "                                      for x, y in zip(census_test.birth_country_mom_cd, census_test.birth_country_dad_cd)]\n",
    "\n",
    "census_test['birth_country_self_cd'] = ['US' if x.strip() in US else 'Am' if x.strip() in Americas \\\n",
    "                                        else 'E' if x.strip() in Europe else 'A' if x.strip() in Asias \\\n",
    "                                        else '?' for x in census_test.birth_country_self]\n",
    "census_test['citizenship_cd'] = ['Native' if x.strip()[:6] == 'Native' else 'Foreign' if x.strip()[:7] == 'Foreign'\\\n",
    "                                  else '?' for x in census_test.citizenship]\n",
    "census_test['weeks_worked_bin'] = pd.Series([0 if x == 0 else 1 if x <= 48 else 2 for x in census_test.weekes_worked_year])\n",
    "\n",
    "ft_proxy = [40 if x.strip() in [\"Full-time schedules\", \"PT for econ reasons usually FT\", \\\n",
    "            \"PT for non-econ reasons usually FT\", \"Children or Armed Forces\"] else 20 for x in census_test.employ_stat]\n",
    "census_test['work_time_proxy'] = [x*y for x, y in zip(ft_proxy, census_test.weekes_worked_year)]\n",
    "\n",
    "# birth_country_dad_cd, parents_country_cd, citizenship_cd, weeks_worked_bin\n",
    "\n",
    "'''Converting occupation_cd to numbers:\n",
    "\n",
    "'Not in universe': 0\n",
    "'Precision production craft & repair': 1\n",
    "'Professional specialty': 2\n",
    "'Executive admin and managerial': 3\n",
    "'Handlers equip cleaners etc':4 \n",
    "'Adm support including clerical':5\n",
    "'Machine operators assmblrs & inspctrs':6 \n",
    "'Other service':7 \n",
    "'Sales':8\n",
    "'Private household services':9 \n",
    "'Technicians and related support':10\n",
    "'Transportation and material moving':11\n",
    "'Farming forestry and fishing':12\n",
    "'Protective services':13\n",
    "'Armed Forces':14'''\n",
    "\n",
    "census_test['occupation_cd'] = (census_test['occupation_cd']).apply(func=str.strip)\n",
    "census_test['occupation_cd_num']= census_test['occupation_cd']\n",
    "\n",
    "census_test['occupation_cd_num'] = census_test['occupation_cd_num'].replace(['Not in universe', 'Precision production craft & repair',\n",
    "       'Professional specialty', 'Executive admin and managerial',\n",
    "       'Handlers equip cleaners etc', 'Adm support including clerical',\n",
    "       'Machine operators assmblrs & inspctrs', 'Other service', 'Sales',\n",
    "       'Private household services', 'Technicians and related support',\n",
    "       'Transportation and material moving',\n",
    "       'Farming forestry and fishing', 'Protective services',\n",
    "       'Armed Forces'], [0,1,2,3,4,5,6,7,8,9,10,11,12,13,14])\n",
    "\n",
    "\n",
    "del census_test['race'] \n",
    "del census_test['hispanic_origin']\n",
    "del census_test['sex']\n",
    "del census_test['labor_union']\n",
    "del census_test['reason_unemployed'] \n",
    "del census_test['employ_stat']\n",
    "\n",
    "#Capital Gains to Household Summary\n",
    "census_test_reformatted = census_test\n",
    "\n",
    "#Capital_Gains & Capital_Losses & Dividends\n",
    "#census_train_reformatted.dividends = census_train_reformatted.dividends.str.strip()\n",
    "census_test_reformatted[\"net_capital_gains\"] = census_test_reformatted.capital_gains - census_test_reformatted.capital_losses + census_test_reformatted.dividends \n",
    "del census_test_reformatted['capital_gains']\n",
    "del census_test_reformatted['capital_losses']\n",
    "del census_test_reformatted['dividends']\n",
    "\n",
    "#Tax_filer\n",
    "census_test_reformatted.tax_filer = census_test_reformatted.tax_filer.str.strip()\n",
    "\n",
    "census_test_reformatted.tax_filer.replace('Nonfiler',0, inplace=True)\n",
    "census_test_reformatted.tax_filer.replace('Joint both under 65',1, inplace=True)\n",
    "census_test_reformatted.tax_filer.replace('Single',1, inplace=True)\n",
    "census_test_reformatted.tax_filer.replace('Joint both 65+',1, inplace=True)\n",
    "census_test_reformatted.tax_filer.replace('Head of household',1, inplace=True)\n",
    "census_test_reformatted.tax_filer.replace('Joint one under 65 & one 65+',1, inplace=True)\n",
    "\n",
    "#Region_prev_resid\n",
    "census_test_reformatted.region_prev_resid = census_test_reformatted.region_prev_resid.str.strip()\n",
    "\n",
    "census_test_reformatted.region_prev_resid.replace('Not in universe',0, inplace=True)\n",
    "census_test_reformatted.region_prev_resid.replace('South',1, inplace=True)\n",
    "census_test_reformatted.region_prev_resid.replace('West',2, inplace=True)\n",
    "census_test_reformatted.region_prev_resid.replace('Midwest',3, inplace=True)\n",
    "census_test_reformatted.region_prev_resid.replace('Northeast',4, inplace=True)\n",
    "census_test_reformatted.region_prev_resid.replace('Abroad',5, inplace=True)\n",
    "\n",
    "#State_prev_resid\n",
    "del census_test_reformatted['state_prev_resid']\n",
    "\n",
    "#household_stat\n",
    "del census_test_reformatted['household_stat']\n",
    "\n",
    "#household_summary\n",
    "census_test_reformatted.household_summary = census_test_reformatted.household_summary.str.strip()\n",
    "\n",
    "census_test_reformatted.household_summary.replace('Householder',1, inplace=True)\n",
    "census_test_reformatted.household_summary.replace('Child under 18 never married',0, inplace=True)\n",
    "census_test_reformatted.household_summary.replace('Spouse of householder',0, inplace=True)\n",
    "census_test_reformatted.household_summary.replace('Child 18 or older',0, inplace=True)\n",
    "census_test_reformatted.household_summary.replace('Other relative of householder',0, inplace=True)\n",
    "census_test_reformatted.household_summary.replace('Nonrelative of householder',0, inplace=True)\n",
    "census_test_reformatted.household_summary.replace('Group Quarters- Secondary individual',0, inplace=True)\n",
    "census_test_reformatted.household_summary.replace('Child under 18 ever married',0, inplace=True)\n",
    "\n",
    "#census_test_reformatted.info()\n",
    "census_test = census_test_reformatted\n",
    "\n",
    "#drop: age, birth_country_dad, birth_country_mom, birth_country_self, birth_country_self_cd, citizenship,class_of_worker, \n",
    "# education, industry_code, industry_recode, marital,\n",
    "# move_within_reg, occupation_cd, occupation_recode, owner_self_employed, tgt_bin, target, veterans_admin, veterans_benefits,\n",
    "# weeks_worked_year, year\n",
    "\n",
    "keep_vars = ['age_bucket', 'birth_country_dad_cd', 'birth_country_mom_cd', 'change_in_msa', 'change_in_reg', 'citizenship_cd',\n",
    "             'class_code', 'education_bucket', 'industry_major_cd', 'live_here_before', 'marital_code', 'occupation_cd_num', \\\n",
    "             'parents_country_cd', 'prev_resid_sunbelt', 'region_prev_resid', 'under_18', 'weeks_worked_bin',\\\n",
    "             'net_capital_gains','num_person_worked','tax_filer', 'wage_per_hour', 'household_summary', 'work_time_proxy']\n",
    "\n",
    "y_test = census_test['target_bin']\n",
    "wgt_test = census_test['weight']\n",
    "\n",
    "cat_vars = keep_vars[:17]\n",
    "X_test = census_test[keep_vars]\n",
    "\n",
    "X_test = pd.get_dummies(X_test, columns=cat_vars)"
   ]
  },
  {
   "cell_type": "code",
   "execution_count": null,
   "metadata": {
    "collapsed": true
   },
   "outputs": [],
   "source": []
  }
 ],
 "metadata": {
  "kernelspec": {
   "display_name": "Python 2",
   "language": "python",
   "name": "python2"
  },
  "language_info": {
   "codemirror_mode": {
    "name": "ipython",
    "version": 2
   },
   "file_extension": ".py",
   "mimetype": "text/x-python",
   "name": "python",
   "nbconvert_exporter": "python",
   "pygments_lexer": "ipython2",
   "version": "2.7.11"
  }
 },
 "nbformat": 4,
 "nbformat_minor": 0
}
