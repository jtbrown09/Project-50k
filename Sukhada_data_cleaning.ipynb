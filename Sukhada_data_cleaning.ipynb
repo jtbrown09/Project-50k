{
 "cells": [
  {
   "cell_type": "code",
   "execution_count": 34,
   "metadata": {
    "collapsed": true
   },
   "outputs": [],
   "source": [
    "import numpy as np\n",
    "import pandas as pd\n",
    "import os\n",
    "import matplotlib.pyplot as plt\n",
    "from pprint import pprint\n",
    "%matplotlib inline\n",
    "import seaborn as sns\n",
    "import string\n",
    "import sklearn.feature_selection"
   ]
  },
  {
   "cell_type": "code",
   "execution_count": 35,
   "metadata": {
    "collapsed": false
   },
   "outputs": [],
   "source": [
    "census_data = pd.read_csv('/Users/nvh005/Documents/BDAcademy/ct16_cap1_ds6/project_2/data/ad_placement/census-income.csv'\n",
    "                          , header = None, na_values = ' ?')"
   ]
  },
  {
   "cell_type": "code",
   "execution_count": 36,
   "metadata": {
    "collapsed": false
   },
   "outputs": [],
   "source": [
    "census_data.columns= ['age', 'class_of_worker', 'industry_recode','occupation_recode', 'education', 'wage_per_hour', \\\n",
    "                      'enroll_in_ed', 'marital', 'industry_cd', 'occupation_cd', 'race', 'hispanic_origin', 'sex', \\\n",
    "                      'labor_union', 'reason_unemployed', 'employ_stat', 'capital_gains', 'capital_losses', 'dividends', \\\n",
    "                      'tax_filer', 'region_prev_resid', 'state_prev_resid', 'household_stat','household_summary', 'weight',\\\n",
    "                      'change_in_msa', 'change_in_reg', 'move_within_reg', 'live_here_before', 'prev_resid_sunbelt',\\\n",
    "                      'num_person_worked', 'under_18', 'birth_country_dad', 'birth_country_mom', 'birth_country_self', \\\n",
    "                      'citizenship', 'owner_self_employed', 'veterans_admin', 'veterans_benefits', 'weekes_worked_year', 'year', 'target']"
   ]
  },
  {
   "cell_type": "markdown",
   "metadata": {},
   "source": [
    "Assigned columns: ['occupation_cd', 'race', 'hispanic_origin', 'sex',\n",
    "                      'labor_union', 'reason_unemployed', 'employ_stat']\n",
    "                      \n",
    "Of the above eight columns, just 'occupation_cd' is useful. All other either have a lot of missing values or low vairance"
   ]
  },
  {
   "cell_type": "code",
   "execution_count": 37,
   "metadata": {
    "collapsed": false
   },
   "outputs": [],
   "source": [
    "census_data['occupation_cd'] = (census_data['occupation_cd']).apply(func=str.strip)\n",
    "census_data['target'] = (census_data['target']).apply(func=str.strip)"
   ]
  },
  {
   "cell_type": "code",
   "execution_count": 38,
   "metadata": {
    "collapsed": false
   },
   "outputs": [],
   "source": [
    "# Creating a duplicate column to convert occupation_cd_num to numbers\n",
    "census_data['occupation_cd_num']= census_data['occupation_cd']"
   ]
  },
  {
   "cell_type": "code",
   "execution_count": 39,
   "metadata": {
    "collapsed": false
   },
   "outputs": [],
   "source": [
    "'''Converting occupation_cd to numbers:\n",
    "\n",
    "'Not in universe': 0\n",
    "'Precision production craft & repair': 1\n",
    "'Professional specialty': 2\n",
    "'Executive admin and managerial': 3\n",
    "'Handlers equip cleaners etc':4 \n",
    "'Adm support including clerical':5\n",
    "'Machine operators assmblrs & inspctrs':6 \n",
    "'Other service':7 \n",
    "'Sales':8\n",
    "'Private household services':9 \n",
    "'Technicians and related support':10\n",
    "'Transportation and material moving':11\n",
    "'Farming forestry and fishing':12\n",
    "'Protective services':13\n",
    "'Armed Forces':14'''\n",
    "\n",
    "\n",
    "census_data['occupation_cd_num'] = census_data['occupation_cd_num'].replace(['Not in universe', 'Precision production craft & repair',\n",
    "       'Professional specialty', 'Executive admin and managerial',\n",
    "       'Handlers equip cleaners etc', 'Adm support including clerical',\n",
    "       'Machine operators assmblrs & inspctrs', 'Other service', 'Sales',\n",
    "       'Private household services', 'Technicians and related support',\n",
    "       'Transportation and material moving',\n",
    "       'Farming forestry and fishing', 'Protective services',\n",
    "       'Armed Forces'], [0,1,2,3,4,5,6,7,8,9,10,11,12,13,14])"
   ]
  }
 ],
 "metadata": {
  "kernelspec": {
   "display_name": "Python 2",
   "language": "python",
   "name": "python2"
  },
  "language_info": {
   "codemirror_mode": {
    "name": "ipython",
    "version": 2
   },
   "file_extension": ".py",
   "mimetype": "text/x-python",
   "name": "python",
   "nbconvert_exporter": "python",
   "pygments_lexer": "ipython2",
   "version": "2.7.11"
  }
 },
 "nbformat": 4,
 "nbformat_minor": 0
}
