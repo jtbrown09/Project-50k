{
 "cells": [
  {
   "cell_type": "code",
   "execution_count": 1,
   "metadata": {
    "collapsed": false
   },
   "outputs": [],
   "source": [
    "import pandas as pd\n",
    "income_test = pd.read_csv(\"data/ad_placement/census-income-test.csv\", header=None)\n",
    "income_test.columns= ['age', 'class_of_worker', 'industry_recode','occupation_recode', 'education', 'wage_per_hour', \\\n",
    "                      'enroll_in_ed', 'marital', 'industry_cd', 'occupation_cd', 'race', 'hispanic_origin', 'sex', \\\n",
    "                      'labor_union', 'reason_unemployed', 'employ_stat', 'capital_gains', 'capital_losses', 'dividends', \\\n",
    "                      'tax_filer', 'region_prev_resid', 'state_prev_resid', 'household_stat','household_summary', 'weight',\\\n",
    "                      'change_in_msa', 'change_in_reg', 'move_within_reg', 'live_here_before', 'prev_resid_sunbelt',\\\n",
    "                      'num_person_worked', 'under_18', 'birth_country_dad', 'birth_country_mom', 'birth_country_self', \\\n",
    "                      'citizenship', 'owner_self_employed', 'veterans_admin', 'veterans_benefits', 'weekes_worked_year', 'year', 'target']\n"
   ]
  },
  {
   "cell_type": "code",
   "execution_count": 2,
   "metadata": {
    "collapsed": false
   },
   "outputs": [
    {
     "name": "stdout",
     "output_type": "stream",
     "text": [
      "   age                  class_of_worker  industry_recode  occupation_recode  \\\n",
      "0   73                  Not in universe                0                  0   \n",
      "1   58   Self-employed-not incorporated                4                 34   \n",
      "2   18                  Not in universe                0                  0   \n",
      "3    9                  Not in universe                0                  0   \n",
      "4   10                  Not in universe                0                  0   \n",
      "\n",
      "                     education  wage_per_hour      enroll_in_ed  \\\n",
      "0         High school graduate              0   Not in universe   \n",
      "1   Some college but no degree              0   Not in universe   \n",
      "2                   10th grade              0       High school   \n",
      "3                     Children              0   Not in universe   \n",
      "4                     Children              0   Not in universe   \n",
      "\n",
      "          marital                   industry_cd  \\\n",
      "0         Widowed   Not in universe or children   \n",
      "1        Divorced                  Construction   \n",
      "2   Never married   Not in universe or children   \n",
      "3   Never married   Not in universe or children   \n",
      "4   Never married   Not in universe or children   \n",
      "\n",
      "                          occupation_cd    ...     birth_country_dad  \\\n",
      "0                       Not in universe    ...         United-States   \n",
      "1   Precision production craft & repair    ...         United-States   \n",
      "2                       Not in universe    ...               Vietnam   \n",
      "3                       Not in universe    ...         United-States   \n",
      "4                       Not in universe    ...         United-States   \n",
      "\n",
      "  birth_country_mom birth_country_self                           citizenship  \\\n",
      "0     United-States      United-States     Native- Born in the United States   \n",
      "1     United-States      United-States     Native- Born in the United States   \n",
      "2           Vietnam            Vietnam   Foreign born- Not a citizen of U S    \n",
      "3     United-States      United-States     Native- Born in the United States   \n",
      "4     United-States      United-States     Native- Born in the United States   \n",
      "\n",
      "  owner_self_employed    veterans_admin  veterans_benefits  \\\n",
      "0                   0   Not in universe                  2   \n",
      "1                   0   Not in universe                  2   \n",
      "2                   0   Not in universe                  2   \n",
      "3                   0   Not in universe                  0   \n",
      "4                   0   Not in universe                  0   \n",
      "\n",
      "   weekes_worked_year  year     target  \n",
      "0                   0    95   - 50000.  \n",
      "1                  52    94   - 50000.  \n",
      "2                   0    95   - 50000.  \n",
      "3                   0    94   - 50000.  \n",
      "4                   0    94   - 50000.  \n",
      "\n",
      "[5 rows x 42 columns]\n"
     ]
    }
   ],
   "source": [
    "#for i in range(42):\n",
    "#    print len(income_test.iloc[:,i].value_counts())\n",
    "income_train = pd.read_csv(\"data/ad_placement/census-income.csv\", header=None)\n",
    "income_train.columns = income_test.columns\n",
    "print income_train[:10].head()"
   ]
  },
  {
   "cell_type": "code",
   "execution_count": 43,
   "metadata": {
    "collapsed": false
   },
   "outputs": [
    {
     "data": {
      "text/plain": [
       "347245892.47001034"
      ]
     },
     "execution_count": 43,
     "metadata": {},
     "output_type": "execute_result"
    }
   ],
   "source": [
    "sum(income_train.weight)"
   ]
  },
  {
   "cell_type": "code",
   "execution_count": 3,
   "metadata": {
    "collapsed": false
   },
   "outputs": [
    {
     "name": "stdout",
     "output_type": "stream",
     "text": [
      " - 50000.    0.937942\n",
      " 50000+.     0.062058\n",
      "dtype: float64\n",
      "(199523, 42)\n"
     ]
    }
   ],
   "source": [
    "print income_train.target.value_counts()/sum(income_train.target.value_counts())\n",
    "print income_train.shape"
   ]
  },
  {
   "cell_type": "code",
   "execution_count": 5,
   "metadata": {
    "collapsed": false
   },
   "outputs": [
    {
     "data": {
      "text/plain": [
       "1    187141\n",
       "0     12382\n",
       "dtype: int64"
      ]
     },
     "execution_count": 5,
     "metadata": {},
     "output_type": "execute_result"
    }
   ],
   "source": [
    "income_train['tgt_bin'] = [1 if x.strip() == '- 50000.' else 0 if x.strip() == '50000+.' else -1 for x in income_train.target]\n",
    "income_train.tgt_bin.value_counts()"
   ]
  },
  {
   "cell_type": "code",
   "execution_count": 6,
   "metadata": {
    "collapsed": false
   },
   "outputs": [
    {
     "name": "stdout",
     "output_type": "stream",
     "text": [
      "(196294, 43)\n"
     ]
    }
   ],
   "source": [
    "print income_train.drop_duplicates().shape\n",
    "#income_train.dtypes"
   ]
  },
  {
   "cell_type": "code",
   "execution_count": 7,
   "metadata": {
    "collapsed": false
   },
   "outputs": [],
   "source": [
    "income_cat_train = income_train.select_dtypes(['object'])"
   ]
  },
  {
   "cell_type": "code",
   "execution_count": 8,
   "metadata": {
    "collapsed": false
   },
   "outputs": [
    {
     "data": {
      "text/html": [
       "<div>\n",
       "<table border=\"1\" class=\"dataframe\">\n",
       "  <thead>\n",
       "    <tr style=\"text-align: right;\">\n",
       "      <th></th>\n",
       "      <th>class_of_worker</th>\n",
       "      <th>education</th>\n",
       "      <th>enroll_in_ed</th>\n",
       "      <th>marital</th>\n",
       "      <th>industry_cd</th>\n",
       "      <th>occupation_cd</th>\n",
       "      <th>race</th>\n",
       "      <th>hispanic_origin</th>\n",
       "      <th>sex</th>\n",
       "      <th>labor_union</th>\n",
       "      <th>...</th>\n",
       "      <th>move_within_reg</th>\n",
       "      <th>live_here_before</th>\n",
       "      <th>prev_resid_sunbelt</th>\n",
       "      <th>under_18</th>\n",
       "      <th>birth_country_dad</th>\n",
       "      <th>birth_country_mom</th>\n",
       "      <th>birth_country_self</th>\n",
       "      <th>citizenship</th>\n",
       "      <th>veterans_admin</th>\n",
       "      <th>target</th>\n",
       "    </tr>\n",
       "  </thead>\n",
       "  <tbody>\n",
       "    <tr>\n",
       "      <th>0</th>\n",
       "      <td>Not in universe</td>\n",
       "      <td>High school graduate</td>\n",
       "      <td>Not in universe</td>\n",
       "      <td>Widowed</td>\n",
       "      <td>Not in universe or children</td>\n",
       "      <td>Not in universe</td>\n",
       "      <td>White</td>\n",
       "      <td>All other</td>\n",
       "      <td>Female</td>\n",
       "      <td>Not in universe</td>\n",
       "      <td>...</td>\n",
       "      <td>?</td>\n",
       "      <td>Not in universe under 1 year old</td>\n",
       "      <td>?</td>\n",
       "      <td>Not in universe</td>\n",
       "      <td>United-States</td>\n",
       "      <td>United-States</td>\n",
       "      <td>United-States</td>\n",
       "      <td>Native- Born in the United States</td>\n",
       "      <td>Not in universe</td>\n",
       "      <td>- 50000.</td>\n",
       "    </tr>\n",
       "    <tr>\n",
       "      <th>1</th>\n",
       "      <td>Self-employed-not incorporated</td>\n",
       "      <td>Some college but no degree</td>\n",
       "      <td>Not in universe</td>\n",
       "      <td>Divorced</td>\n",
       "      <td>Construction</td>\n",
       "      <td>Precision production craft &amp; repair</td>\n",
       "      <td>White</td>\n",
       "      <td>All other</td>\n",
       "      <td>Male</td>\n",
       "      <td>Not in universe</td>\n",
       "      <td>...</td>\n",
       "      <td>Same county</td>\n",
       "      <td>No</td>\n",
       "      <td>Yes</td>\n",
       "      <td>Not in universe</td>\n",
       "      <td>United-States</td>\n",
       "      <td>United-States</td>\n",
       "      <td>United-States</td>\n",
       "      <td>Native- Born in the United States</td>\n",
       "      <td>Not in universe</td>\n",
       "      <td>- 50000.</td>\n",
       "    </tr>\n",
       "    <tr>\n",
       "      <th>2</th>\n",
       "      <td>Not in universe</td>\n",
       "      <td>10th grade</td>\n",
       "      <td>High school</td>\n",
       "      <td>Never married</td>\n",
       "      <td>Not in universe or children</td>\n",
       "      <td>Not in universe</td>\n",
       "      <td>Asian or Pacific Islander</td>\n",
       "      <td>All other</td>\n",
       "      <td>Female</td>\n",
       "      <td>Not in universe</td>\n",
       "      <td>...</td>\n",
       "      <td>?</td>\n",
       "      <td>Not in universe under 1 year old</td>\n",
       "      <td>?</td>\n",
       "      <td>Not in universe</td>\n",
       "      <td>Vietnam</td>\n",
       "      <td>Vietnam</td>\n",
       "      <td>Vietnam</td>\n",
       "      <td>Foreign born- Not a citizen of U S</td>\n",
       "      <td>Not in universe</td>\n",
       "      <td>- 50000.</td>\n",
       "    </tr>\n",
       "    <tr>\n",
       "      <th>3</th>\n",
       "      <td>Not in universe</td>\n",
       "      <td>Children</td>\n",
       "      <td>Not in universe</td>\n",
       "      <td>Never married</td>\n",
       "      <td>Not in universe or children</td>\n",
       "      <td>Not in universe</td>\n",
       "      <td>White</td>\n",
       "      <td>All other</td>\n",
       "      <td>Female</td>\n",
       "      <td>Not in universe</td>\n",
       "      <td>...</td>\n",
       "      <td>Nonmover</td>\n",
       "      <td>Yes</td>\n",
       "      <td>Not in universe</td>\n",
       "      <td>Both parents present</td>\n",
       "      <td>United-States</td>\n",
       "      <td>United-States</td>\n",
       "      <td>United-States</td>\n",
       "      <td>Native- Born in the United States</td>\n",
       "      <td>Not in universe</td>\n",
       "      <td>- 50000.</td>\n",
       "    </tr>\n",
       "    <tr>\n",
       "      <th>4</th>\n",
       "      <td>Not in universe</td>\n",
       "      <td>Children</td>\n",
       "      <td>Not in universe</td>\n",
       "      <td>Never married</td>\n",
       "      <td>Not in universe or children</td>\n",
       "      <td>Not in universe</td>\n",
       "      <td>White</td>\n",
       "      <td>All other</td>\n",
       "      <td>Female</td>\n",
       "      <td>Not in universe</td>\n",
       "      <td>...</td>\n",
       "      <td>Nonmover</td>\n",
       "      <td>Yes</td>\n",
       "      <td>Not in universe</td>\n",
       "      <td>Both parents present</td>\n",
       "      <td>United-States</td>\n",
       "      <td>United-States</td>\n",
       "      <td>United-States</td>\n",
       "      <td>Native- Born in the United States</td>\n",
       "      <td>Not in universe</td>\n",
       "      <td>- 50000.</td>\n",
       "    </tr>\n",
       "  </tbody>\n",
       "</table>\n",
       "<p>5 rows × 29 columns</p>\n",
       "</div>"
      ],
      "text/plain": [
       "                   class_of_worker                    education  \\\n",
       "0                  Not in universe         High school graduate   \n",
       "1   Self-employed-not incorporated   Some college but no degree   \n",
       "2                  Not in universe                   10th grade   \n",
       "3                  Not in universe                     Children   \n",
       "4                  Not in universe                     Children   \n",
       "\n",
       "       enroll_in_ed         marital                   industry_cd  \\\n",
       "0   Not in universe         Widowed   Not in universe or children   \n",
       "1   Not in universe        Divorced                  Construction   \n",
       "2       High school   Never married   Not in universe or children   \n",
       "3   Not in universe   Never married   Not in universe or children   \n",
       "4   Not in universe   Never married   Not in universe or children   \n",
       "\n",
       "                          occupation_cd                        race  \\\n",
       "0                       Not in universe                       White   \n",
       "1   Precision production craft & repair                       White   \n",
       "2                       Not in universe   Asian or Pacific Islander   \n",
       "3                       Not in universe                       White   \n",
       "4                       Not in universe                       White   \n",
       "\n",
       "  hispanic_origin      sex       labor_union    ...     move_within_reg  \\\n",
       "0       All other   Female   Not in universe    ...                   ?   \n",
       "1       All other     Male   Not in universe    ...         Same county   \n",
       "2       All other   Female   Not in universe    ...                   ?   \n",
       "3       All other   Female   Not in universe    ...            Nonmover   \n",
       "4       All other   Female   Not in universe    ...            Nonmover   \n",
       "\n",
       "                    live_here_before prev_resid_sunbelt  \\\n",
       "0   Not in universe under 1 year old                  ?   \n",
       "1                                 No                Yes   \n",
       "2   Not in universe under 1 year old                  ?   \n",
       "3                                Yes    Not in universe   \n",
       "4                                Yes    Not in universe   \n",
       "\n",
       "                under_18 birth_country_dad birth_country_mom  \\\n",
       "0        Not in universe     United-States     United-States   \n",
       "1        Not in universe     United-States     United-States   \n",
       "2        Not in universe           Vietnam           Vietnam   \n",
       "3   Both parents present     United-States     United-States   \n",
       "4   Both parents present     United-States     United-States   \n",
       "\n",
       "  birth_country_self                           citizenship    veterans_admin  \\\n",
       "0      United-States     Native- Born in the United States   Not in universe   \n",
       "1      United-States     Native- Born in the United States   Not in universe   \n",
       "2            Vietnam   Foreign born- Not a citizen of U S    Not in universe   \n",
       "3      United-States     Native- Born in the United States   Not in universe   \n",
       "4      United-States     Native- Born in the United States   Not in universe   \n",
       "\n",
       "      target  \n",
       "0   - 50000.  \n",
       "1   - 50000.  \n",
       "2   - 50000.  \n",
       "3   - 50000.  \n",
       "4   - 50000.  \n",
       "\n",
       "[5 rows x 29 columns]"
      ]
     },
     "execution_count": 8,
     "metadata": {},
     "output_type": "execute_result"
    }
   ],
   "source": [
    "income_cat_train.head()"
   ]
  },
  {
   "cell_type": "code",
   "execution_count": 9,
   "metadata": {
    "collapsed": false,
    "scrolled": false
   },
   "outputs": [
    {
     "name": "stdout",
     "output_type": "stream",
     "text": [
      "state_prev_resid 0.00354846308446\n",
      "change_in_msa 0.499671717045\n",
      "change_in_reg 0.499671717045\n",
      "move_within_reg 0.499671717045\n",
      "prev_resid_sunbelt 0.499671717045\n",
      "birth_country_dad 0.0336452439067\n",
      "birth_country_mom 0.0306681435223\n",
      "birth_country_self 0.0170055582564\n",
      "not in universe\n",
      "class_of_worker 0.502423279522\n",
      "enroll_in_ed 0.936949624855\n",
      "industry_cd 0.504623527112\n",
      "occupation_cd 0.504623527112\n",
      "labor_union 0.904452118302\n",
      "reason_unemployed 0.9695774422\n",
      "region_prev_resid 0.920946457301\n",
      "state_prev_resid 0.920946457301\n",
      "change_in_msa 0.00759812151982\n",
      "change_in_reg 0.00759812151982\n",
      "move_within_reg 0.00759812151982\n",
      "live_here_before 0.507269838565\n",
      "prev_resid_sunbelt 0.421274740256\n",
      "under_18 0.722884078527\n",
      "veterans_admin 0.990056284238\n"
     ]
    }
   ],
   "source": [
    "for i in income_cat_train.columns:\n",
    "    temp_q = sum([1 if x.strip() == '?' else 0 for x in income_cat_train[i]])\n",
    "    if temp_q > 0:\n",
    "        print i, float(temp_q)/len(income_cat_train)\n",
    "\n",
    "print 'not in universe'\n",
    "\n",
    "for i in income_cat_train.columns:\n",
    "    temp_na = sum([1 if 'Not in universe' in x.strip() else 0 for x in income_cat_train[i]])\n",
    "    if temp_na > 0:\n",
    "        print i, float(temp_na)/len(income_cat_train)"
   ]
  },
  {
   "cell_type": "code",
   "execution_count": 17,
   "metadata": {
    "collapsed": false
   },
   "outputs": [
    {
     "data": {
      "text/plain": [
       "count    199523.000000\n",
       "mean        903.951224\n",
       "std         969.402343\n",
       "min           0.000000\n",
       "25%           0.000000\n",
       "50%         240.000000\n",
       "75%        2080.000000\n",
       "max        2080.000000\n",
       "Name: work_time_proxy, dtype: float64"
      ]
     },
     "execution_count": 17,
     "metadata": {},
     "output_type": "execute_result"
    }
   ],
   "source": [
    "#'birth_country_dad_cd' - US/Americas/Europe/Asia/?\n",
    "#'birth_country_mom_cd' - US/Americas/Europe/Asia/?\n",
    "#'birth_country_self_cd' - US/Americas/Europe/Asia/?\n",
    "# 'year' - 94/95 (Don't use)\n",
    "# 'citizenship' - native vs foreign\n",
    "# 'veterans_admin' - 99% not in universe (Don't use)\n",
    "# 'veterans_benefits' - 2 (150130)/ 0 (47409)/ 1(1984)\n",
    "# 'owner_self_employed - 0 (180672)/ 2 (16153)/ 1 (2698) - 91% have 0 not owner neither self-employed\n",
    "# 'weekes_worked_year' - binned as 0/ 1-48/ 49-52\n",
    "\n",
    "US = ['United-States', 'Puerto-Rico', 'Canada', 'Outlying-U S (Guam USVI etc)']\n",
    "Americas = ['Mexico', 'Guatemala', 'Honduras', 'Nicaragua', 'Panama', 'El-Salvador', \\\n",
    "            'Cuba', 'Haiti', 'Dominican-Republic', 'Jamaica', 'Trinadad&Tobago', \\\n",
    "            'Columbia', 'Ecuador', 'Peru']\n",
    "Europe = ['Germany', 'England', 'Ireland', 'Italy', 'Portugal', 'Hungary', 'Greece', 'Poland', 'Scotland', 'France', \\\n",
    "          'Holand-Netherlands',  'Yugoslavia']\n",
    "Asias = ['Philippines', 'Vietnam', 'Japan', 'China', 'South Korea', 'India', 'Taiwan',  'Iran', 'Cambodia', \\\n",
    "         'Laos', 'Thailand', 'Hong Kong']\n",
    "\n",
    "income_train['birth_country_mom_cd'] = ['US' if x.strip() in US else 'Am' if x.strip() in Americas \\\n",
    "                                        else 'E' if x.strip() in Europe else 'A' if x.strip() in Asias \\\n",
    "                                        else '?' for x in income_train.birth_country_mom]\n",
    "\n",
    "income_train['birth_country_dad_cd'] = ['US' if x.strip() in US else 'Am' if x.strip() in Americas \\\n",
    "                                        else 'E' if x.strip() in Europe else 'A' if x.strip() in Asias \\\n",
    "                                        else '?' for x in income_train.birth_country_dad]\n",
    "\n",
    "income_train['parents_country_cd'] = [\"US\" if x == \"US\" and y == \"US\" else \"US-Foreign\" \\\n",
    "                                      if (x == \"US\" and y != \"US\") or (x != \"US\" and y == \"US\") else \"Foreign\"\\\n",
    "                                      for x, y in zip(income_train.birth_country_mom_cd, income_train.birth_country_dad_cd)]\n",
    "\n",
    "income_train['birth_country_self_cd'] = ['US' if x.strip() in US else 'Am' if x.strip() in Americas \\\n",
    "                                        else 'E' if x.strip() in Europe else 'A' if x.strip() in Asias \\\n",
    "                                        else '?' for x in income_train.birth_country_self]\n",
    "income_train['citizenship_cd'] = ['Native' if x.strip()[:6] == 'Native' else 'Foreign' if x.strip()[:7] == 'Foreign'\\\n",
    "                                  else '?' for x in income_train.citizenship]\n",
    "income_train['weeks_worked_bin'] = pd.Series([0 if x == 0 else 1 if x <= 48 else 2 for x in income_train.weekes_worked_year])\n",
    "\n",
    "ft_proxy = [40 if x.strip() in [\"Full-time schedules\", \"PT for econ reasons usually FT\", \\\n",
    "            \"PT for non-econ reasons usually FT\", \"Children or Armed Forces\"] else 20 for x in income_train.employ_stat]\n",
    "income_train['work_time_proxy'] = [x*y for x, y in zip(ft_proxy, income_train.weekes_worked_year)]\n",
    "\n",
    "income_train.work_time_proxy.describe()\n",
    "# birth_country_dad_cd, parents_country_cd, citizenship_cd, weeks_worked_bin"
   ]
  },
  {
   "cell_type": "code",
   "execution_count": 4,
   "metadata": {
    "collapsed": false
   },
   "outputs": [
    {
     "data": {
      "text/plain": [
       " ?    6119\n",
       "dtype: int64"
      ]
     },
     "execution_count": 4,
     "metadata": {},
     "output_type": "execute_result"
    }
   ],
   "source": [
    "income_train[income_train.birth_country_mom_cd == \"?\"].birth_country_mom.value_counts()"
   ]
  },
  {
   "cell_type": "code",
   "execution_count": 5,
   "metadata": {
    "collapsed": true
   },
   "outputs": [],
   "source": []
  },
  {
   "cell_type": "code",
   "execution_count": 6,
   "metadata": {
    "collapsed": false
   },
   "outputs": [
    {
     "data": {
      "text/plain": [
       " ?    6713\n",
       "dtype: int64"
      ]
     },
     "execution_count": 6,
     "metadata": {},
     "output_type": "execute_result"
    }
   ],
   "source": [
    "income_train[income_train.birth_country_dad_cd == \"?\"].birth_country_dad.value_counts()"
   ]
  },
  {
   "cell_type": "code",
   "execution_count": 11,
   "metadata": {
    "collapsed": false
   },
   "outputs": [],
   "source": [
    "income_train['parents_country_cd'] = [\"US\" if x == \"US\" and y == \"US\" else \"US-Foreign\" \\\n",
    "                                      if (x == \"US\" and y != \"US\") or (x != \"US\" and y == \"US\") else \"Foreign\"\\\n",
    "                                      for x, y in zip(income_train.birth_country_mom_cd, income_train.birth_country_dad_cd)]"
   ]
  },
  {
   "cell_type": "code",
   "execution_count": 12,
   "metadata": {
    "collapsed": false
   },
   "outputs": [
    {
     "name": "stdout",
     "output_type": "stream",
     "text": [
      "birth_country_dad_cd     ?     A     Am     E      US\n",
      "birth_country_mom_cd                                 \n",
      "?                     4879    69    102   243     826\n",
      "A                       58  4476     43    20     488\n",
      "Am                     171    60  14692    78    1341\n",
      "E                      271    58     52  5313    1723\n",
      "US                    1334   301   1750  2171  159004\n"
     ]
    }
   ],
   "source": [
    "print pd.crosstab(income_train.birth_country_mom_cd, income_train.birth_country_dad_cd)"
   ]
  },
  {
   "cell_type": "code",
   "execution_count": 13,
   "metadata": {
    "collapsed": false
   },
   "outputs": [
    {
     "data": {
      "text/plain": [
       "US    179208\n",
       "Am     10291\n",
       "A       3703\n",
       "?       3393\n",
       "E       2928\n",
       "dtype: int64"
      ]
     },
     "execution_count": 13,
     "metadata": {},
     "output_type": "execute_result"
    }
   ],
   "source": [
    "income_train['birth_country_self_cd'] = ['US' if x.strip() in US else 'Am' if x.strip() in Americas \\\n",
    "                                        else 'E' if x.strip() in Europe else 'A' if x.strip() in Asias \\\n",
    "                                        else '?' for x in income_train.birth_country_self]\n",
    "income_train.birth_country_self_cd.value_counts()"
   ]
  },
  {
   "cell_type": "code",
   "execution_count": 10,
   "metadata": {
    "collapsed": true
   },
   "outputs": [],
   "source": [
    "income_train['citizenship_cd'] = ['Native' if x.strip()[:6] == 'Native' else 'Foreign' if x.strip()[:7] == 'Foreign'\\\n",
    "                                  else '?' for x in income_train.citizenship]"
   ]
  },
  {
   "cell_type": "code",
   "execution_count": null,
   "metadata": {
    "collapsed": true
   },
   "outputs": [],
   "source": []
  },
  {
   "cell_type": "code",
   "execution_count": 14,
   "metadata": {
    "collapsed": false
   },
   "outputs": [
    {
     "data": {
      "text/plain": [
       "0    0.905520\n",
       "2    0.080958\n",
       "1    0.013522\n",
       "dtype: float64"
      ]
     },
     "execution_count": 14,
     "metadata": {},
     "output_type": "execute_result"
    }
   ],
   "source": [
    "income_train.owner_self_employed.value_counts()/len(income_train)"
   ]
  },
  {
   "cell_type": "code",
   "execution_count": 15,
   "metadata": {
    "collapsed": false
   },
   "outputs": [
    {
     "data": {
      "text/plain": [
       " Not in universe    0.990056\n",
       " No                 0.007984\n",
       " Yes                0.001960\n",
       "dtype: float64"
      ]
     },
     "execution_count": 15,
     "metadata": {},
     "output_type": "execute_result"
    }
   ],
   "source": [
    "income_train.veterans_admin.value_counts()/len(income_train)"
   ]
  },
  {
   "cell_type": "code",
   "execution_count": 16,
   "metadata": {
    "collapsed": false
   },
   "outputs": [
    {
     "data": {
      "text/plain": [
       "2    0.752445\n",
       "0    0.237612\n",
       "1    0.009944\n",
       "dtype: float64"
      ]
     },
     "execution_count": 16,
     "metadata": {},
     "output_type": "execute_result"
    }
   ],
   "source": [
    "income_train.veterans_benefits.value_counts()/len(income_train)"
   ]
  },
  {
   "cell_type": "code",
   "execution_count": 17,
   "metadata": {
    "collapsed": false
   },
   "outputs": [],
   "source": [
    "income_train['weeks_worked_bin'] = pd.Series([0 if x == 0 else 1 if x <= 48 else 2 for x in income_train.weekes_worked_year])"
   ]
  },
  {
   "cell_type": "code",
   "execution_count": 18,
   "metadata": {
    "collapsed": false
   },
   "outputs": [
    {
     "name": "stdout",
     "output_type": "stream",
     "text": [
      "weeks_worked_bin    \n",
      "0                 0     95983\n",
      "1                 40     2790\n",
      "                  26     2268\n",
      "                  48     1806\n",
      "                  12     1780\n",
      "                  30     1378\n",
      "                  20     1330\n",
      "                  8      1126\n",
      "                  36     1108\n",
      "                  16      945\n",
      "                  32      883\n",
      "                  44      845\n",
      "                  24      767\n",
      "                  4       757\n",
      "                  46      708\n",
      "                  35      704\n",
      "                  10      694\n",
      "                  45      669\n",
      "                  6       646\n",
      "                  39      602\n",
      "                  42      573\n",
      "                  28      568\n",
      "                  13      496\n",
      "                  1       464\n",
      "                  2       458\n",
      "                  25      457\n",
      "                  3       417\n",
      "                  38      380\n",
      "                  43      374\n",
      "                  22      370\n",
      "                  15      353\n",
      "                  17      331\n",
      "                  5       309\n",
      "                  47      278\n",
      "                  18      272\n",
      "                  14      257\n",
      "                  9       239\n",
      "                  34      230\n",
      "                  7       152\n",
      "                  21      135\n",
      "                  37      123\n",
      "                  41       88\n",
      "                  33       81\n",
      "                  11       78\n",
      "                  27       76\n",
      "                  23       67\n",
      "                  29       63\n",
      "                  31       51\n",
      "                  19       48\n",
      "2                 52    70314\n",
      "                  50     2304\n",
      "                  51      819\n",
      "                  49      509\n",
      "dtype: int64\n",
      "0    95983\n",
      "2    73946\n",
      "1    29594\n",
      "dtype: int64\n"
     ]
    }
   ],
   "source": [
    "print income_train.groupby('weeks_worked_bin').weekes_worked_year.value_counts()\n",
    "print income_train."
   ]
  },
  {
   "cell_type": "code",
   "execution_count": 20,
   "metadata": {
    "collapsed": false
   },
   "outputs": [
    {
     "data": {
      "text/html": [
       "<div>\n",
       "<table border=\"1\" class=\"dataframe\">\n",
       "  <thead>\n",
       "    <tr style=\"text-align: right;\">\n",
       "      <th>birth_country_dad_cd</th>\n",
       "      <th>?</th>\n",
       "      <th>A</th>\n",
       "      <th>Am</th>\n",
       "      <th>E</th>\n",
       "      <th>US</th>\n",
       "    </tr>\n",
       "    <tr>\n",
       "      <th>hispanic_origin</th>\n",
       "      <th></th>\n",
       "      <th></th>\n",
       "      <th></th>\n",
       "      <th></th>\n",
       "      <th></th>\n",
       "    </tr>\n",
       "  </thead>\n",
       "  <tbody>\n",
       "    <tr>\n",
       "      <th>All other</th>\n",
       "      <td>5621</td>\n",
       "      <td>4827</td>\n",
       "      <td>1690</td>\n",
       "      <td>7622</td>\n",
       "      <td>152147</td>\n",
       "    </tr>\n",
       "    <tr>\n",
       "      <th>Central or South American</th>\n",
       "      <td>617</td>\n",
       "      <td>18</td>\n",
       "      <td>2914</td>\n",
       "      <td>34</td>\n",
       "      <td>312</td>\n",
       "    </tr>\n",
       "    <tr>\n",
       "      <th>Chicano</th>\n",
       "      <td>2</td>\n",
       "      <td>0</td>\n",
       "      <td>86</td>\n",
       "      <td>0</td>\n",
       "      <td>216</td>\n",
       "    </tr>\n",
       "    <tr>\n",
       "      <th>Cuban</th>\n",
       "      <td>88</td>\n",
       "      <td>6</td>\n",
       "      <td>967</td>\n",
       "      <td>10</td>\n",
       "      <td>55</td>\n",
       "    </tr>\n",
       "    <tr>\n",
       "      <th>Do not know</th>\n",
       "      <td>4</td>\n",
       "      <td>0</td>\n",
       "      <td>0</td>\n",
       "      <td>3</td>\n",
       "      <td>299</td>\n",
       "    </tr>\n",
       "    <tr>\n",
       "      <th>Mexican (Mexicano)</th>\n",
       "      <td>15</td>\n",
       "      <td>21</td>\n",
       "      <td>6327</td>\n",
       "      <td>27</td>\n",
       "      <td>844</td>\n",
       "    </tr>\n",
       "    <tr>\n",
       "      <th>Mexican-American</th>\n",
       "      <td>38</td>\n",
       "      <td>19</td>\n",
       "      <td>3531</td>\n",
       "      <td>22</td>\n",
       "      <td>4469</td>\n",
       "    </tr>\n",
       "    <tr>\n",
       "      <th>NA</th>\n",
       "      <td>30</td>\n",
       "      <td>32</td>\n",
       "      <td>55</td>\n",
       "      <td>35</td>\n",
       "      <td>722</td>\n",
       "    </tr>\n",
       "    <tr>\n",
       "      <th>Other Spanish</th>\n",
       "      <td>180</td>\n",
       "      <td>33</td>\n",
       "      <td>926</td>\n",
       "      <td>41</td>\n",
       "      <td>1305</td>\n",
       "    </tr>\n",
       "    <tr>\n",
       "      <th>Puerto Rican</th>\n",
       "      <td>118</td>\n",
       "      <td>8</td>\n",
       "      <td>143</td>\n",
       "      <td>31</td>\n",
       "      <td>3013</td>\n",
       "    </tr>\n",
       "  </tbody>\n",
       "</table>\n",
       "</div>"
      ],
      "text/plain": [
       "birth_country_dad_cd           ?     A    Am     E      US\n",
       "hispanic_origin                                           \n",
       " All other                  5621  4827  1690  7622  152147\n",
       " Central or South American   617    18  2914    34     312\n",
       " Chicano                       2     0    86     0     216\n",
       " Cuban                        88     6   967    10      55\n",
       " Do not know                   4     0     0     3     299\n",
       " Mexican (Mexicano)           15    21  6327    27     844\n",
       " Mexican-American             38    19  3531    22    4469\n",
       " NA                           30    32    55    35     722\n",
       " Other Spanish               180    33   926    41    1305\n",
       " Puerto Rican                118     8   143    31    3013"
      ]
     },
     "execution_count": 20,
     "metadata": {},
     "output_type": "execute_result"
    }
   ],
   "source": [
    "pd.crosstab(income_train.hispanic_origin, income_train.birth_country_dad_cd)"
   ]
  },
  {
   "cell_type": "code",
   "execution_count": null,
   "metadata": {
    "collapsed": true
   },
   "outputs": [],
   "source": [
    "from sklearn.feature_selection import SelectKBest\n",
    "from sklearn.feature_selection import chi2\n",
    "\n",
    "X = income_train['birth_country_mom_cd', u'birth_country_dad_cd', 'parents_country_cd', 'birth_country_self_cd', \\'citizenship_cd','weeks_worked_bin'\n"
   ]
  },
  {
   "cell_type": "code",
   "execution_count": null,
   "metadata": {
    "collapsed": false
   },
   "outputs": [],
   "source": [
    "ft_proxy = [40 if x.strip() in [\"Full-time schedules\", \"PT for econ reasons usually FT\", \\\n",
    "            \"PT for non-econ reasons usually FT\", \"Children or Armed Forces\"] else 20 for x in income_train.employ_stat]\n",
    "pd.crosstab(ft_proxy, income_train.employ_stat)"
   ]
  },
  {
   "cell_type": "code",
   "execution_count": 28,
   "metadata": {
    "collapsed": false
   },
   "outputs": [
    {
     "data": {
      "text/plain": [
       " ?                   99696\n",
       " Nonmover            82538\n",
       " MSA to MSA          10601\n",
       " NonMSA to nonMSA     2811\n",
       " Not in universe      1516\n",
       " MSA to nonMSA         790\n",
       " NonMSA to MSA         615\n",
       " Abroad to MSA         453\n",
       " Not identifiable      430\n",
       " Abroad to nonMSA       73\n",
       "dtype: int64"
      ]
     },
     "execution_count": 28,
     "metadata": {},
     "output_type": "execute_result"
    }
   ],
   "source": [
    "income_train.change_in_msa.value_counts()"
   ]
  },
  {
   "cell_type": "code",
   "execution_count": null,
   "metadata": {
    "collapsed": true
   },
   "outputs": [],
   "source": []
  }
 ],
 "metadata": {
  "kernelspec": {
   "display_name": "Python 2",
   "language": "python",
   "name": "python2"
  },
  "language_info": {
   "codemirror_mode": {
    "name": "ipython",
    "version": 2
   },
   "file_extension": ".py",
   "mimetype": "text/x-python",
   "name": "python",
   "nbconvert_exporter": "python",
   "pygments_lexer": "ipython2",
   "version": "2.7.10"
  }
 },
 "nbformat": 4,
 "nbformat_minor": 0
}
