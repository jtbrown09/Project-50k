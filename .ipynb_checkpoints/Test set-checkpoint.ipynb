{
 "cells": [
  {
   "cell_type": "code",
   "execution_count": 1,
   "metadata": {
    "collapsed": false
   },
   "outputs": [],
   "source": [
    "# imports\n",
    "%matplotlib inline\n",
    "\n",
    "import re\n",
    "import os\n",
    "import json\n",
    "import pprint\n",
    "import datetime\n",
    "import pandas as pd\n",
    "import numpy as np\n",
    "from datetime import datetime\n",
    "import matplotlib.pyplot as plt\n",
    "import seaborn as sns \n",
    "census_test = pd.read_csv(\"C:/Users/eje913/ct16_cap1_ds6/project_2/data/ad_placement/census-income-test.csv\", header=None) "
   ]
  },
  {
   "cell_type": "code",
   "execution_count": 2,
   "metadata": {
    "collapsed": false
   },
   "outputs": [],
   "source": [
    "census_test.columns= ['age', 'class_of_worker', 'industry_recode','occupation_recode', 'education', 'wage_per_hour', \\\n",
    "                      'enroll_in_ed', 'marital', 'industry_cd', 'occupation_cd', 'race', 'hispanic_origin', 'sex', \\\n",
    "                      'labor_union', 'reason_unemployed', 'employ_stat', 'capital_gains', 'capital_losses', 'dividends', \\\n",
    "                      'tax_filer', 'region_prev_resid', 'state_prev_resid', 'household_stat','household_summary', 'weight',\\\n",
    "                      'change_in_msa', 'change_in_reg', 'move_within_reg', 'live_here_before', 'prev_resid_sunbelt',\\\n",
    "                      'num_person_worked', 'under_18', 'birth_country_dad', 'birth_country_mom', 'birth_country_self', \\\n",
    "                      'citizenship', 'owner_self_employed', 'veterans_admin', 'veterans_benefits', 'weekes_worked_year', 'year', \\\n",
    "                       'target']  "
   ]
  },
  {
   "cell_type": "code",
   "execution_count": 3,
   "metadata": {
    "collapsed": false
   },
   "outputs": [],
   "source": [
    "# make target 0/1\n",
    "census_test['target_bin']=census_test['target'].apply(lambda x: 1 if x.strip()=='50000+.' else 0 if x.strip()=='- 50000.' else 'miss')\n",
    "#print census_train.groupby(['target_bin']).count()\n",
    "\n",
    "# lets bucket ages \n",
    "\n",
    "# 0-15 (child-1), 16-22 (school-2), 23-39 (entry-3), 40-66 (manage-4), 67+ (retire-5)\n",
    "census_test['age_bucket']=census_test['age'].apply(lambda x: 1 if 0<=x<=15 else 2 if 16<=x<=22 else 3 if 23<=x<=39 else 4 if 40<=x<=66\n",
    "                                             else 5 if x>=67 else 'miss')\n",
    "#class of worker\n",
    "'''\n",
    "All people over the age of 15 who have been employed at any \n",
    "time are asked to designate the type of work normally done or the work performed most regularly. \n",
    "'''\n",
    "# convert to numebrs\n",
    "census_test['class_code']=census_test['class_of_worker'].apply(lambda x: 0 if x.strip()=='Not in universe' \n",
    "                                                                else 1 if x.strip()=='Private'\n",
    "                                                                else 2 if x.strip()=='Self-employed-not incorporated'\n",
    "                                                                else 3 if x.strip()=='Local government'\n",
    "                                                                else 4 if x.strip()=='State government'\n",
    "                                                                else 5 if x.strip()=='Federal government'\n",
    "                                                                else 6 if x.strip()=='Never worked'\n",
    "                                                                else 7 if x.strip()=='Without pay'\n",
    "                                                                else 8 if x.strip()=='Self-employed-incorporated'\n",
    "                                                                else 'miss')\n"
   ]
  },
  {
   "cell_type": "code",
   "execution_count": 4,
   "metadata": {
    "collapsed": false
   },
   "outputs": [],
   "source": [
    "'''\n",
    "0: not in universe\n",
    "1: agriculture, fishing, forestry, hunting\n",
    "2: mining\n",
    "3: construction\n",
    "4: manufacturing\n",
    "5: wholesale and retail trade\n",
    "6: transportation and utilities\n",
    "7: information\n",
    "8: financial activities\n",
    "9: professional and business services\n",
    "10: education and health services\n",
    "11: leisure and hospitality\n",
    "12: other services\n",
    "13: public administration\n",
    "14: armed forces\n",
    "'''\n",
    "\n",
    "industry_major={0:0,1:1,2:1,3:2,4:3,5:4,6:4,7:4,8:4,9:4,10:4,11:4,12:4,13:4,14:4,15:4,16:4,17:4,18:4,19:4,20:4,21:4,\n",
    "               22:4,23:4,24:4,25:4,26:4,27:4,28:4,29:6,30:6,31:6,32:5,33:5,34:8,35:8,36:12,37:9,38:9,39:12,40:11,41:10,\n",
    "               42:10,43:10,44:12,45:9,46:1,47:13,48:13,49:13,50:13,51:14}\n",
    "\n",
    "census_test['industry_major_cd']=census_test['industry_recode'].apply(lambda x: industry_major.get(x))\n",
    "\n",
    "#lets group these a bit and convert to numbers\n",
    "census_test['education_bucket']=census_test['education'].apply(lambda x: 2 if x.strip()=='Less than 1st grade'\n",
    "                                                                else 2 if x.strip()=='1st 2nd 3rd or 4th grade'\n",
    "                                                                else 3 if x.strip()=='5th or 6th grade'\n",
    "                                                                else 1 if x.strip()=='Children'\n",
    "                                                                else 3 if x.strip()=='7th and 8th grade'\n",
    "                                                                else 4 if x.strip()=='9th grade'\n",
    "                                                                else 4 if x.strip()=='10th grade'\n",
    "                                                                else 4 if x.strip()=='11th grade'\n",
    "                                                                else 4 if x.strip()=='12th grade no diploma'\n",
    "                                                                else 5 if x.strip()=='High school graduate'\n",
    "                                                                else 6 if x.strip()=='Some college but no degree'\n",
    "                                                                else 6 if x.strip()=='Associates degree-occup /vocational'\n",
    "                                                                else 6 if x.strip()=='Associates degree-academic program'\n",
    "                                                                else 7 if x.strip()=='Bachelors degree(BA AB BS)'\n",
    "                                                                else 8 if x.strip()=='Masters degree(MA MS MEng MEd MSW MBA)'\n",
    "                                                                else 8 if x.strip()=='Prof school degree (MD DDS DVM LLB JD)'\n",
    "                                                                else 8 if x.strip()=='Doctorate degree(PhD EdD)'\n",
    "                                                                else 'miss')\n",
    "\n",
    "\n",
    "#this seems pretty useless to me since 94% have the same value so let's drop it!\n",
    "census_test.drop(['enroll_in_ed'], axis=1, inplace=True)\n",
    "\n",
    "#convert to number\n",
    "census_test['marital_code']=census_test['marital'].apply(lambda x: 0 if x.strip()=='Never married' \n",
    "                                                                else 1 if x.strip()=='Married-civilian spouse present'\n",
    "                                                                else 2 if x.strip()=='Divorced'\n",
    "                                                                else 3 if x.strip()=='Widowed'\n",
    "                                                                else 4 if x.strip()=='Separated'\n",
    "                                                                else 5 if x.strip()=='Married-spouse absent'\n",
    "                                                                else 6 if x.strip()=='Married-A F spouse present'\n",
    "                                                                else 'miss')\n",
    "\n"
   ]
  },
  {
   "cell_type": "code",
   "execution_count": 5,
   "metadata": {
    "collapsed": false
   },
   "outputs": [],
   "source": [
    "#'birth_country_dad_cd' - US/Americas/Europe/Asia/?\n",
    "#'birth_country_mom_cd' - US/Americas/Europe/Asia/?\n",
    "#'birth_country_self_cd' - US/Americas/Europe/Asia/?\n",
    "# 'year' - 94/95 (Don't use)\n",
    "# 'citizenship' - native vs foreign\n",
    "# 'veterans_admin' - 99% not in universe (Don't use)\n",
    "# 'veterans_benefits' - 2 (150130)/ 0 (47409)/ 1(1984)\n",
    "# 'owner_self_employed - 0 (180672)/ 2 (16153)/ 1 (2698) - 91% have 0 not owner neither self-employed\n",
    "# 'weekes_worked_year' - binned as 0/ 1-48/ 49-52\n",
    "\n",
    "US = ['United-States', 'Puerto-Rico', 'Canada', 'Outlying-U S (Guam USVI etc)']\n",
    "Americas = ['Mexico', 'Guatemala', 'Honduras', 'Nicaragua', 'Panama', 'El-Salvador', \\\n",
    "            'Cuba', 'Haiti', 'Dominican-Republic', 'Jamaica', 'Trinadad&Tobago', \\\n",
    "            'Columbia', 'Ecuador', 'Peru']\n",
    "Europe = ['Germany', 'England', 'Ireland', 'Italy', 'Portugal', 'Hungary', 'Greece', 'Poland', 'Scotland', 'France', \\\n",
    "          'Holand-Netherlands',  'Yugoslavia']\n",
    "Asias = ['Philippines', 'Vietnam', 'Japan', 'China', 'South Korea', 'India', 'Taiwan',  'Iran', 'Cambodia', \\\n",
    "         'Laos', 'Thailand', 'Hong Kong']\n",
    "\n",
    "census_test['birth_country_mom_cd'] = ['US' if x.strip() in US else 'Am' if x.strip() in Americas \\\n",
    "                                        else 'E' if x.strip() in Europe else 'A' if x.strip() in Asias \\\n",
    "                                        else '?' for x in census_test.birth_country_mom]\n",
    "\n",
    "census_test['birth_country_dad_cd'] = ['US' if x.strip() in US else 'Am' if x.strip() in Americas \\\n",
    "                                        else 'E' if x.strip() in Europe else 'A' if x.strip() in Asias \\\n",
    "                                        else '?' for x in census_test.birth_country_dad]\n",
    "\n",
    "census_test['parents_country_cd'] = [\"US\" if x == \"US\" and y == \"US\" else \"US-Foreign\" \\\n",
    "                                      if (x == \"US\" and y != \"US\") or (x != \"US\" and y == \"US\") else \"Foreign\"\\\n",
    "                                      for x, y in zip(census_test.birth_country_mom_cd, census_test.birth_country_dad_cd)]\n",
    "\n",
    "census_test['birth_country_self_cd'] = ['US' if x.strip() in US else 'Am' if x.strip() in Americas \\\n",
    "                                        else 'E' if x.strip() in Europe else 'A' if x.strip() in Asias \\\n",
    "                                        else '?' for x in census_test.birth_country_self]\n",
    "census_test['citizenship_cd'] = ['Native' if x.strip()[:6] == 'Native' else 'Foreign' if x.strip()[:7] == 'Foreign'\\\n",
    "                                  else '?' for x in census_test.citizenship]\n",
    "census_test['weeks_worked_bin'] = pd.Series([0 if x == 0 else 1 if x <= 48 else 2 for x in census_test.weekes_worked_year])\n",
    "\n",
    "ft_proxy = [40 if x.strip() in [\"Full-time schedules\", \"PT for econ reasons usually FT\", \\\n",
    "            \"PT for non-econ reasons usually FT\", \"Children or Armed Forces\"] else 20 for x in census_test.employ_stat]\n",
    "census_test['work_time_proxy'] = [x*y for x, y in zip(ft_proxy, census_test.weekes_worked_year)]\n",
    "\n",
    "# birth_country_dad_cd, parents_country_cd, citizenship_cd, weeks_worked_bin"
   ]
  },
  {
   "cell_type": "code",
   "execution_count": 6,
   "metadata": {
    "collapsed": false
   },
   "outputs": [],
   "source": [
    "'''Converting occupation_cd to numbers:\n",
    "\n",
    "'Not in universe': 0\n",
    "'Precision production craft & repair': 1\n",
    "'Professional specialty': 2\n",
    "'Executive admin and managerial': 3\n",
    "'Handlers equip cleaners etc':4 \n",
    "'Adm support including clerical':5\n",
    "'Machine operators assmblrs & inspctrs':6 \n",
    "'Other service':7 \n",
    "'Sales':8\n",
    "'Private household services':9 \n",
    "'Technicians and related support':10\n",
    "'Transportation and material moving':11\n",
    "'Farming forestry and fishing':12\n",
    "'Protective services':13\n",
    "'Armed Forces':14'''\n",
    "\n",
    "census_test['occupation_cd'] = (census_test['occupation_cd']).apply(func=str.strip)\n",
    "census_test['occupation_cd_num']= census_test['occupation_cd']\n",
    "\n",
    "census_test['occupation_cd_num'] = census_test['occupation_cd_num'].replace(['Not in universe', 'Precision production craft & repair',\n",
    "       'Professional specialty', 'Executive admin and managerial',\n",
    "       'Handlers equip cleaners etc', 'Adm support including clerical',\n",
    "       'Machine operators assmblrs & inspctrs', 'Other service', 'Sales',\n",
    "       'Private household services', 'Technicians and related support',\n",
    "       'Transportation and material moving',\n",
    "       'Farming forestry and fishing', 'Protective services',\n",
    "       'Armed Forces'], [0,1,2,3,4,5,6,7,8,9,10,11,12,13,14])\n",
    "\n",
    "\n",
    "del census_test['race'] \n",
    "del census_test['hispanic_origin']\n",
    "del census_test['sex']\n",
    "del census_test['labor_union']\n",
    "del census_test['reason_unemployed'] \n",
    "del census_test['employ_stat']"
   ]
  },
  {
   "cell_type": "code",
   "execution_count": 7,
   "metadata": {
    "collapsed": false
   },
   "outputs": [],
   "source": [
    "#Capital Gains to Household Summary\n",
    "census_test_reformatted = census_test\n",
    "\n",
    "#Capital_Gains & Capital_Losses & Dividends\n",
    "#census_train_reformatted.dividends = census_train_reformatted.dividends.str.strip()\n",
    "census_test_reformatted[\"net_capital_gains\"] = census_test_reformatted.capital_gains - census_test_reformatted.capital_losses + census_test_reformatted.dividends \n",
    "del census_test_reformatted['capital_gains']\n",
    "del census_test_reformatted['capital_losses']\n",
    "del census_test_reformatted['dividends']\n",
    "\n",
    "#Tax_filer\n",
    "census_test_reformatted.tax_filer = census_test_reformatted.tax_filer.str.strip()\n",
    "\n",
    "census_test_reformatted.tax_filer.replace('Nonfiler',0, inplace=True)\n",
    "census_test_reformatted.tax_filer.replace('Joint both under 65',1, inplace=True)\n",
    "census_test_reformatted.tax_filer.replace('Single',1, inplace=True)\n",
    "census_test_reformatted.tax_filer.replace('Joint both 65+',1, inplace=True)\n",
    "census_test_reformatted.tax_filer.replace('Head of household',1, inplace=True)\n",
    "census_test_reformatted.tax_filer.replace('Joint one under 65 & one 65+',1, inplace=True)\n",
    "\n",
    "#Region_prev_resid\n",
    "census_test_reformatted.region_prev_resid = census_test_reformatted.region_prev_resid.str.strip()\n",
    "\n",
    "census_test_reformatted.region_prev_resid.replace('Not in universe',0, inplace=True)\n",
    "census_test_reformatted.region_prev_resid.replace('South',1, inplace=True)\n",
    "census_test_reformatted.region_prev_resid.replace('West',2, inplace=True)\n",
    "census_test_reformatted.region_prev_resid.replace('Midwest',3, inplace=True)\n",
    "census_test_reformatted.region_prev_resid.replace('Northeast',4, inplace=True)\n",
    "census_test_reformatted.region_prev_resid.replace('Abroad',5, inplace=True)\n",
    "\n",
    "#State_prev_resid\n",
    "del census_test_reformatted['state_prev_resid']\n",
    "\n",
    "#household_stat\n",
    "del census_test_reformatted['household_stat']\n",
    "\n",
    "#household_summary\n",
    "census_test_reformatted.household_summary = census_test_reformatted.household_summary.str.strip()\n",
    "\n",
    "census_test_reformatted.household_summary.replace('Householder',1, inplace=True)\n",
    "census_test_reformatted.household_summary.replace('Child under 18 never married',0, inplace=True)\n",
    "census_test_reformatted.household_summary.replace('Spouse of householder',0, inplace=True)\n",
    "census_test_reformatted.household_summary.replace('Child 18 or older',0, inplace=True)\n",
    "census_test_reformatted.household_summary.replace('Other relative of householder',0, inplace=True)\n",
    "census_test_reformatted.household_summary.replace('Nonrelative of householder',0, inplace=True)\n",
    "census_test_reformatted.household_summary.replace('Group Quarters- Secondary individual',0, inplace=True)\n",
    "census_test_reformatted.household_summary.replace('Child under 18 ever married',0, inplace=True)\n",
    "\n",
    "#census_test_reformatted.info()"
   ]
  },
  {
   "cell_type": "code",
   "execution_count": 8,
   "metadata": {
    "collapsed": false
   },
   "outputs": [],
   "source": [
    "census_test = census_test_reformatted"
   ]
  },
  {
   "cell_type": "code",
   "execution_count": 9,
   "metadata": {
    "collapsed": false
   },
   "outputs": [],
   "source": [
    "#drop: age, birth_country_dad, birth_country_mom, birth_country_self, birth_country_self_cd, citizenship,class_of_worker, \n",
    "# education, industry_code, industry_recode, marital,\n",
    "# move_within_reg, occupation_cd, occupation_recode, owner_self_employed, tgt_bin, target, veterans_admin, veterans_benefits,\n",
    "# weeks_worked_year, year\n",
    "\n",
    "keep_vars = ['age_bucket', 'birth_country_dad_cd', 'birth_country_mom_cd', 'change_in_msa', 'change_in_reg', 'citizenship_cd',\n",
    "             'class_code', 'education_bucket', 'industry_major_cd', 'live_here_before', 'marital_code', 'occupation_cd_num', \\\n",
    "             'parents_country_cd', 'prev_resid_sunbelt', 'region_prev_resid', 'under_18', 'weeks_worked_bin',\\\n",
    "             'net_capital_gains','num_person_worked','tax_filer', 'wage_per_hour', 'household_summary', 'work_time_proxy']\n",
    "\n",
    "y_test = census_test['target_bin']\n",
    "wgt_test = census_test['weight']"
   ]
  },
  {
   "cell_type": "code",
   "execution_count": 10,
   "metadata": {
    "collapsed": false
   },
   "outputs": [],
   "source": [
    "cat_vars = keep_vars[:17]\n",
    "X_test = census_test[keep_vars]"
   ]
  },
  {
   "cell_type": "code",
   "execution_count": 11,
   "metadata": {
    "collapsed": false
   },
   "outputs": [],
   "source": [
    "X_test = pd.get_dummies(X_test, columns=cat_vars)"
   ]
  },
  {
   "cell_type": "code",
   "execution_count": null,
   "metadata": {
    "collapsed": true
   },
   "outputs": [],
   "source": []
  }
 ],
 "metadata": {
  "kernelspec": {
   "display_name": "Python 2",
   "language": "python",
   "name": "python2"
  },
  "language_info": {
   "codemirror_mode": {
    "name": "ipython",
    "version": 2
   },
   "file_extension": ".py",
   "mimetype": "text/x-python",
   "name": "python",
   "nbconvert_exporter": "python",
   "pygments_lexer": "ipython2",
   "version": "2.7.11"
  }
 },
 "nbformat": 4,
 "nbformat_minor": 0
}
